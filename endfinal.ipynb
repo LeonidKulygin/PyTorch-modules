{
 "cells": [
  {
   "cell_type": "code",
   "execution_count": 1,
   "metadata": {
    "id": "3MeKai5Xj6eX"
   },
   "outputs": [],
   "source": [
    "import numpy as np"
   ]
  },
  {
   "cell_type": "code",
   "execution_count": 2,
   "metadata": {},
   "outputs": [],
   "source": [
    "# -*- coding: utf-8 -*-\n",
    "import numpy as np\n",
    "import torch  # Используем в основном для загрузки MNIST и как эталон (если нужны тесты)\n",
    "import torch.nn.functional as F  # Иногда полезен для сравнения или F.pad\n",
    "import unittest\n",
    "import math\n",
    "import pickle  # Для сохранения/загрузки модели\n",
    "import os\n",
    "from tqdm.notebook import tqdm  # Для прогресс-бара в jupyter/colab\n",
    "\n",
    "# from tqdm import tqdm # Для обычного скрипта\n",
    "import matplotlib.pyplot as plt\n",
    "from sklearn.model_selection import train_test_split\n",
    "from sklearn.metrics import accuracy_score, r2_score\n",
    "from sklearn.preprocessing import StandardScaler  # Для регрессии\n",
    "\n",
    "# Загрузка MNIST\n",
    "try:\n",
    "    from torchvision.datasets import MNIST\n",
    "    from torchvision.transforms import ToTensor\n",
    "\n",
    "    TORCHVISION_AVAILABLE = True\n",
    "except ImportError:\n",
    "    print(\"Warning: torchvision not found. MNIST dataset cannot be loaded.\")\n",
    "    TORCHVISION_AVAILABLE = False"
   ]
  },
  {
   "cell_type": "markdown",
   "metadata": {
    "id": "wwlFrG-Tj6eY"
   },
   "source": [
    "**Module** is an abstract class which defines fundamental methods necessary for a training a neural network. You do not need to change anything here, just read the comments."
   ]
  },
  {
   "cell_type": "code",
   "execution_count": 3,
   "metadata": {
    "id": "W8BLmtZ3j6eZ"
   },
   "outputs": [],
   "source": [
    "import numpy as np\n",
    "\n",
    "\n",
    "class Module(object):\n",
    "    \"\"\"\n",
    "    Базовый класс для всех нейронных сетевых модулей.\n",
    "    \"\"\"\n",
    "\n",
    "    def __init__(self):\n",
    "        self.output = None\n",
    "        self.gradInput = None\n",
    "        self.training = True\n",
    "\n",
    "    def forward(self, input):\n",
    "        \"\"\"\n",
    "        Выполняет прямой проход. Не переопределять, использовать updateOutput.\n",
    "        \"\"\"\n",
    "        return self.updateOutput(input)\n",
    "\n",
    "    def backward(self, input, gradOutput):\n",
    "        \"\"\"\n",
    "        Выполняет обратный проход. Не переопределять, использовать updateGradInput и accGradParameters.\n",
    "        \"\"\"\n",
    "        # Сначала вычисляем градиент по входу\n",
    "        grad_input = self.updateGradInput(input, gradOutput)\n",
    "        # Затем вычисляем и накапливаем градиенты по параметрам\n",
    "        self.accGradParameters(input, gradOutput)\n",
    "        # Возвращаем градиент по входу\n",
    "        return grad_input\n",
    "\n",
    "    def updateOutput(self, input):\n",
    "        \"\"\"\n",
    "        Вычисляет выход модуля. Должен быть переопределен дочерними классами.\n",
    "        Необходимо сохранить результат в self.output и вернуть его.\n",
    "        \"\"\"\n",
    "        # Пример:\n",
    "        # self.output = input\n",
    "        # return self.output\n",
    "        raise NotImplementedError\n",
    "\n",
    "    def updateGradInput(self, input, gradOutput):\n",
    "        \"\"\"\n",
    "        Вычисляет градиент функции потерь по отношению ко входу модуля.\n",
    "        Должен быть переопределен дочерними классами.\n",
    "        Необходимо сохранить результат в self.gradInput и вернуть его.\n",
    "        \"\"\"\n",
    "        # Пример:\n",
    "        # self.gradInput = gradOutput\n",
    "        # return self.gradInput\n",
    "        raise NotImplementedError\n",
    "\n",
    "    def accGradParameters(self, input, gradOutput):\n",
    "        \"\"\"\n",
    "        Вычисляет градиент функции потерь по отношению к обучаемым параметрам модуля\n",
    "        и *накапливает* его. Должен быть переопределен, если у модуля есть параметры.\n",
    "        \"\"\"\n",
    "        # Ничего не делаем по умолчанию (для слоев без параметров)\n",
    "        pass\n",
    "\n",
    "    def zeroGradParameters(self):\n",
    "        \"\"\"\n",
    "        Обнуляет накопленные градиенты параметров.\n",
    "        Должен быть переопределен, если у модуля есть параметры.\n",
    "        \"\"\"\n",
    "        # Ничего не делаем по умолчанию\n",
    "        pass\n",
    "\n",
    "    def getParameters(self):\n",
    "        \"\"\"\n",
    "        Возвращает список обучаемых параметров модуля.\n",
    "        \"\"\"\n",
    "        return []\n",
    "\n",
    "    def getGradParameters(self):\n",
    "        \"\"\"\n",
    "        Возвращает список градиентов по обучаемым параметрам.\n",
    "        Порядок должен соответствовать getParameters().\n",
    "        \"\"\"\n",
    "        return []\n",
    "\n",
    "    def train(self):\n",
    "        \"\"\"\n",
    "        Переключает модуль в режим обучения.\n",
    "        \"\"\"\n",
    "        self.training = True\n",
    "\n",
    "    def evaluate(self):\n",
    "        \"\"\"\n",
    "        Переключает модуль в режим оценки.\n",
    "        \"\"\"\n",
    "        self.training = False\n",
    "\n",
    "    def __repr__(self):\n",
    "        \"\"\"с\n",
    "        Возвращает строковое представление модуля.\n",
    "        \"\"\"\n",
    "        return self.__class__.__name__ + \"()\""
   ]
  },
  {
   "cell_type": "markdown",
   "metadata": {
    "id": "mKRkIjT8j6eZ"
   },
   "source": [
    "# Sequential container"
   ]
  },
  {
   "cell_type": "markdown",
   "metadata": {
    "id": "Cb98PPpJj6ea"
   },
   "source": [
    "**Define** a forward and backward pass procedures."
   ]
  },
  {
   "cell_type": "code",
   "execution_count": 4,
   "metadata": {
    "id": "7y2lav4dj6ea"
   },
   "outputs": [],
   "source": [
    "class Sequential(Module):\n",
    "    \"\"\"Контейнер для последовательного применения модулей.\"\"\"\n",
    "\n",
    "    def __init__(self):\n",
    "        super(Sequential, self).__init__()\n",
    "        self.modules = []\n",
    "\n",
    "    def add(self, module):\n",
    "        self.modules.append(module)\n",
    "\n",
    "    def updateOutput(self, input):\n",
    "        current_output = input\n",
    "        if not self.modules:\n",
    "            self.output = current_output\n",
    "            return self.output\n",
    "        for module in self.modules:\n",
    "            current_output = module.forward(current_output)\n",
    "        self.output = current_output\n",
    "        return self.output\n",
    "\n",
    "    def backward(self, input, gradOutput):\n",
    "        current_grad = gradOutput\n",
    "        if not self.modules:\n",
    "            self.gradInput = current_grad\n",
    "            return self.gradInput\n",
    "        for i in range(len(self.modules) - 1, -1, -1):\n",
    "            module = self.modules[i]\n",
    "            input_for_backward = input if i == 0 else self.modules[i - 1].output\n",
    "            current_grad = module.backward(input_for_backward, current_grad)\n",
    "        self.gradInput = current_grad\n",
    "        return self.gradInput\n",
    "\n",
    "    def zeroGradParameters(self):\n",
    "        for module in self.modules:\n",
    "            module.zeroGradParameters()\n",
    "\n",
    "    def getParameters(self):\n",
    "        params = []\n",
    "        for module in self.modules:\n",
    "            module_params = module.getParameters()\n",
    "            # Важно: getParameters() может вернуть []\n",
    "            if module_params:  # Проверяем, что список не пустой\n",
    "                params.extend(module_params)\n",
    "        return params\n",
    "\n",
    "    def getGradParameters(self):\n",
    "        grad_params = []\n",
    "        for module in self.modules:\n",
    "            module_grad_params = module.getGradParameters()\n",
    "            if module_grad_params:  # Проверяем, что список не пустой\n",
    "                grad_params.extend(module_grad_params)\n",
    "        return grad_params\n",
    "\n",
    "    def train(self):\n",
    "        self.training = True\n",
    "        for module in self.modules:\n",
    "            module.train()\n",
    "\n",
    "    def evaluate(self):\n",
    "        self.training = False\n",
    "        for module in self.modules:\n",
    "            module.evaluate()\n",
    "\n",
    "    def __repr__(self):\n",
    "        string = \"Sequential (\\n\"\n",
    "        for i, module in enumerate(self.modules):\n",
    "            module_str = str(module)\n",
    "            indented_module_str = \"  \" + module_str.replace(\"\\n\", \"\\n  \")\n",
    "            if indented_module_str.endswith(\"\\n  \"):\n",
    "                indented_module_str = indented_module_str[:-2]\n",
    "            string += f\"  ({i}): {indented_module_str}\\n\"\n",
    "        string += \")\"\n",
    "        return string\n",
    "\n",
    "    def __getitem__(self, x):\n",
    "        return self.modules.__getitem__(x)"
   ]
  },
  {
   "cell_type": "markdown",
   "metadata": {
    "id": "zfXdYfO4j6ea"
   },
   "source": [
    "# Layers"
   ]
  },
  {
   "cell_type": "markdown",
   "metadata": {
    "id": "ZuwvBkuNj6ea"
   },
   "source": [
    "## 1 (0.2). Linear transform layer\n",
    "Also known as dense layer, fully-connected layer, FC-layer, InnerProductLayer (in caffe), affine transform\n",
    "- input:   **`batch_size x n_feats1`**\n",
    "- output: **`batch_size x n_feats2`**"
   ]
  },
  {
   "cell_type": "code",
   "execution_count": 5,
   "metadata": {
    "id": "D0uoyqkpj6ea"
   },
   "outputs": [],
   "source": [
    "class Linear(Module):\n",
    "    \"\"\"Полносвязный слой.\"\"\"\n",
    "\n",
    "    def __init__(self, n_in, n_out):\n",
    "        super(Linear, self).__init__()\n",
    "        stdv = 1.0 / np.sqrt(n_in)\n",
    "        self.W = np.random.uniform(-stdv, stdv, size=(n_out, n_in))\n",
    "        self.b = np.random.uniform(-stdv, stdv, size=n_out)\n",
    "        self.gradW = np.zeros_like(self.W)\n",
    "        self.gradb = np.zeros_like(self.b)\n",
    "\n",
    "    def updateOutput(self, input):\n",
    "        self.output = input @ self.W.T + self.b\n",
    "        return self.output\n",
    "\n",
    "    def updateGradInput(self, input, gradOutput):\n",
    "        self.gradInput = gradOutput @ self.W\n",
    "        return self.gradInput\n",
    "\n",
    "    def accGradParameters(self, input, gradOutput):\n",
    "        self.gradW += gradOutput.T @ input\n",
    "        self.gradb += np.sum(gradOutput, axis=0)\n",
    "\n",
    "    def zeroGradParameters(self):\n",
    "        self.gradW.fill(0)\n",
    "        self.gradb.fill(0)\n",
    "\n",
    "    def getParameters(self):\n",
    "        return [self.W, self.b]\n",
    "\n",
    "    def getGradParameters(self):\n",
    "        return [self.gradW, self.gradb]\n",
    "\n",
    "    def __repr__(self):\n",
    "        return f\"Linear(in={self.W.shape[1]}, out={self.W.shape[0]})\""
   ]
  },
  {
   "cell_type": "markdown",
   "metadata": {
    "id": "tNOnHXZJj6eb"
   },
   "source": [
    "## 2. (0.2) SoftMax\n",
    "- input:   **`batch_size x n_feats`**\n",
    "- output: **`batch_size x n_feats`**\n",
    "\n",
    "$\\text{softmax}(x)_i = \\frac{\\exp x_i} {\\sum_j \\exp x_j}$\n",
    "\n",
    "Recall that $\\text{softmax}(x) == \\text{softmax}(x - \\text{const})$. It makes possible to avoid computing exp() from large argument."
   ]
  },
  {
   "cell_type": "code",
   "execution_count": 6,
   "metadata": {
    "collapsed": true,
    "id": "VIValI0hj6eb",
    "jupyter": {
     "outputs_hidden": true
    }
   },
   "outputs": [],
   "source": [
    "class SoftMax(Module):\n",
    "    \"\"\"SoftMax activation function.\"\"\"\n",
    "\n",
    "    def __init__(self):\n",
    "        super(SoftMax, self).__init__()\n",
    "\n",
    "    def updateOutput(self, input):\n",
    "        stable_input = np.subtract(input, input.max(axis=1, keepdims=True))\n",
    "        exp_output = np.exp(stable_input)\n",
    "        sum_exp = np.sum(exp_output, axis=1, keepdims=True)\n",
    "        # Добавим маленький эпсилон к знаменателю для дополнительной стабильности\n",
    "        self.output = exp_output / (sum_exp + 1e-15)\n",
    "        return self.output\n",
    "\n",
    "    def updateGradInput(self, input, gradOutput):\n",
    "        if self.output is None:\n",
    "            raise ValueError(\"Output is not computed. Run forward pass first.\")\n",
    "        dot_product = np.sum(gradOutput * self.output, axis=1, keepdims=True)\n",
    "        self.gradInput = self.output * (gradOutput - dot_product)\n",
    "        return self.gradInput\n",
    "\n",
    "    def __repr__(self):\n",
    "        return \"SoftMax()\"  # Изменено для соответствия имени класса"
   ]
  },
  {
   "cell_type": "markdown",
   "metadata": {
    "id": "Cy3DJjynj6eb"
   },
   "source": [
    "## 3. (0.2) LogSoftMax\n",
    "- input:   **`batch_size x n_feats`**\n",
    "- output: **`batch_size x n_feats`**\n",
    "\n",
    "$\\text{logsoftmax}(x)_i = \\log\\text{softmax}(x)_i = x_i - \\log {\\sum_j \\exp x_j}$\n",
    "\n",
    "The main goal of this layer is to be used in computation of log-likelihood loss."
   ]
  },
  {
   "cell_type": "code",
   "execution_count": 7,
   "metadata": {
    "collapsed": true,
    "id": "Xo7DRdAJj6eb",
    "jupyter": {
     "outputs_hidden": true
    }
   },
   "outputs": [],
   "source": [
    "class LogSoftMax(Module):\n",
    "    \"\"\"LogSoftMax activation function.\"\"\"\n",
    "\n",
    "    def __init__(self):\n",
    "        super(LogSoftMax, self).__init__()\n",
    "\n",
    "    def updateOutput(self, input):\n",
    "        stable_input = np.subtract(input, input.max(axis=1, keepdims=True))\n",
    "        exp_stable = np.exp(stable_input)\n",
    "        sum_exp_stable = np.sum(exp_stable, axis=1, keepdims=True)\n",
    "        # Добавим эпсилон перед логарифмом\n",
    "        log_sum_exp = np.log(sum_exp_stable + 1e-15)\n",
    "        self.output = stable_input - log_sum_exp\n",
    "        return self.output\n",
    "\n",
    "    def updateGradInput(self, input, gradOutput):\n",
    "        if self.output is None:\n",
    "            raise ValueError(\"Output is not computed. Run forward pass first.\")\n",
    "        softmax_output = np.exp(self.output)\n",
    "        sum_gradOutput = np.sum(gradOutput, axis=1, keepdims=True)\n",
    "        self.gradInput = gradOutput - softmax_output * sum_gradOutput\n",
    "        return self.gradInput\n",
    "\n",
    "    def __repr__(self):\n",
    "        return \"LogSoftMax()\"  # Исправлено имя для соответствия классу"
   ]
  },
  {
   "cell_type": "markdown",
   "metadata": {
    "id": "QP5QdmmPj6eb"
   },
   "source": [
    "## 4. (0.3) Batch normalization\n",
    "One of the most significant recent ideas that impacted NNs a lot is [**Batch normalization**](http://arxiv.org/abs/1502.03167). The idea is simple, yet effective: the features should be whitened ($mean = 0$, $std = 1$) all the way through NN. This improves the convergence for deep models letting it train them for days but not weeks. **You are** to implement the first part of the layer: features normalization. The second part (`ChannelwiseScaling` layer) is implemented below.\n",
    "\n",
    "- input:   **`batch_size x n_feats`**\n",
    "- output: **`batch_size x n_feats`**\n",
    "\n",
    "The layer should work as follows. While training (`self.training == True`) it transforms input as $$y = \\frac{x - \\mu}  {\\sqrt{\\sigma + \\epsilon}}$$\n",
    "where $\\mu$ and $\\sigma$ - mean and variance of feature values in **batch** and $\\epsilon$ is just a small number for numericall stability. Also during training, layer should maintain exponential moving average values for mean and variance:\n",
    "```\n",
    "    self.moving_mean = self.moving_mean * alpha + batch_mean * (1 - alpha)\n",
    "    self.moving_variance = self.moving_variance * alpha + batch_variance * (1 - alpha)\n",
    "```\n",
    "During testing (`self.training == False`) the layer normalizes input using moving_mean and moving_variance.\n",
    "\n",
    "Note that decomposition of batch normalization on normalization itself and channelwise scaling here is just a common **implementation** choice. In general \"batch normalization\" always assumes normalization + scaling."
   ]
  },
  {
   "cell_type": "code",
   "execution_count": 8,
   "metadata": {
    "collapsed": true,
    "id": "fGTTDqVgj6eb",
    "jupyter": {
     "outputs_hidden": true
    }
   },
   "outputs": [],
   "source": [
    "class BatchNormalization(Module):\n",
    "    \"\"\"Batch Normalization layer (без обучаемых gamma/beta).\"\"\"\n",
    "\n",
    "    EPS = 1e-5  # Стандартный EPS для BN в PyTorch\n",
    "\n",
    "    def __init__(self, alpha=0.9):\n",
    "        super(BatchNormalization, self).__init__()\n",
    "        self.alpha = alpha\n",
    "        self.moving_mean = None\n",
    "        self.moving_variance = None\n",
    "        # Статистики и промежуточные значения текущего батча (только для train)\n",
    "        self.batch_mean = None\n",
    "        self.batch_variance = None\n",
    "        self.input_normalized = None\n",
    "        self.inv_std = None\n",
    "        self.input_shape = None\n",
    "\n",
    "    def updateOutput(self, input):\n",
    "        input_dtype = input.dtype\n",
    "        input = input.astype(np.float64)  # Работаем с float64\n",
    "        self.input_shape = input.shape\n",
    "        if len(input.shape) != 2:\n",
    "            raise ValueError(\n",
    "                f\"BatchNormalization expects 2D input (batch, features), got {input.shape}\"\n",
    "            )\n",
    "        N, n_features = self.input_shape\n",
    "\n",
    "        if self.training:\n",
    "            if N == 1:\n",
    "                # BN с батчем 1 в режиме train не имеет смысла, но PyTorch его обрабатывает,\n",
    "                # используя moving average. Для простоты вернем 0 или вход.\n",
    "                # Или можно использовать moving stats, если они есть\n",
    "                print(\n",
    "                    \"Warning: BatchNormalization received batch size 1 in training mode.\"\n",
    "                )\n",
    "                if self.moving_mean is not None and self.moving_variance is not None:\n",
    "                    # Используем moving stats как в eval режиме\n",
    "                    inv_std_eval = 1.0 / np.sqrt(self.moving_variance + self.EPS)\n",
    "                    self.output = (input - self.moving_mean) * inv_std_eval\n",
    "                    # Не сохраняем batch stats и не обновляем moving stats\n",
    "                    self.batch_mean = None\n",
    "                    self.batch_variance = None\n",
    "                    self.inv_std = None\n",
    "                    self.input_normalized = None\n",
    "                    return self.output.astype(input_dtype)\n",
    "                else:  # Если и moving stats нет - возвращаем нули или вход\n",
    "                    self.output = np.zeros_like(input)  # или input\n",
    "                    return self.output.astype(input_dtype)\n",
    "\n",
    "            # Стандартный расчет для N > 1\n",
    "            self.batch_mean = np.mean(input, axis=0, keepdims=True)\n",
    "            # Используем ddof=0 для biased variance\n",
    "            self.batch_variance = np.var(input, axis=0, ddof=0, keepdims=True)\n",
    "\n",
    "            # --- ИСПРАВЛЕНИЕ ИНИЦИАЛИЗАЦИИ/ОБНОВЛЕНИЯ ---\n",
    "            if self.moving_mean is None:\n",
    "                # ПЕРВЫЙ forward: Просто инициализируем статистики батча\n",
    "                # (unbiased variance для moving_variance)\n",
    "                self.moving_mean = self.batch_mean.copy()\n",
    "                # PyTorch использует unbiased оценку для running_var\n",
    "                unbiased_batch_variance = self.batch_variance * (\n",
    "                    N / max(1.0, N - 1.0)\n",
    "                )  # Деление на N-1, защита от N=1\n",
    "                self.moving_variance = unbiased_batch_variance.copy()\n",
    "            else:\n",
    "                # ПОСЛЕДУЮЩИЕ forward: Обновляем по формуле\n",
    "                self.moving_mean = (\n",
    "                    self.alpha * self.moving_mean + (1.0 - self.alpha) * self.batch_mean\n",
    "                )\n",
    "                unbiased_batch_variance = self.batch_variance * (N / max(1.0, N - 1.0))\n",
    "                self.moving_variance = (\n",
    "                    self.alpha * self.moving_variance\n",
    "                    + (1.0 - self.alpha) * unbiased_batch_variance\n",
    "                )\n",
    "            # ------------------------------------------\n",
    "\n",
    "            # Нормализация и сохранение для backward (используем biased variance батча)\n",
    "            self.inv_std = 1.0 / np.sqrt(self.batch_variance + self.EPS)\n",
    "            self.input_normalized = (input - self.batch_mean) * self.inv_std\n",
    "            self.output = self.input_normalized\n",
    "\n",
    "        else:  # Режим оценки\n",
    "            if self.moving_mean is None or self.moving_variance is None:\n",
    "                # Если не тренировали, инициализируем стандартно\n",
    "                print(\n",
    "                    \"Warning: BN in eval mode without training. Using default stats (mean=0, var=1).\"\n",
    "                )\n",
    "                self.moving_mean = np.zeros((1, n_features))\n",
    "                self.moving_variance = np.ones((1, n_features))\n",
    "\n",
    "            inv_std_eval = 1.0 / np.sqrt(self.moving_variance + self.EPS)\n",
    "            self.output = (input - self.moving_mean) * inv_std_eval\n",
    "            # Не сохраняем batch stats в eval\n",
    "            self.batch_mean = None\n",
    "            self.batch_variance = None\n",
    "            self.inv_std = None\n",
    "            self.input_normalized = None\n",
    "\n",
    "        return self.output.astype(input_dtype)\n",
    "\n",
    "    def updateGradInput(self, input, gradOutput):\n",
    "        input_dtype = input.dtype\n",
    "        gradOutput = gradOutput.astype(np.float64)\n",
    "        input = input.astype(np.float64)  # Input нужен для backward в train\n",
    "\n",
    "        if not self.training:\n",
    "            # Backward в eval - используем moving stats\n",
    "            if self.moving_variance is None:\n",
    "                # Если нет moving stats, градиент не определен корректно\n",
    "                print(\n",
    "                    \"Warning: BN backward called in eval mode without stats. Returning zero grad.\"\n",
    "                )\n",
    "                self.gradInput = np.zeros_like(input)\n",
    "                return self.gradInput.astype(input_dtype)\n",
    "\n",
    "            inv_std_eval = 1.0 / np.sqrt(self.moving_variance + self.EPS)\n",
    "            self.gradInput = gradOutput * inv_std_eval\n",
    "            return self.gradInput.astype(input_dtype)\n",
    "\n",
    "        # Только для режима обучения (использует сохраненные batch stats)\n",
    "        if (\n",
    "            self.input_shape is None\n",
    "            or self.batch_mean is None\n",
    "            or self.input_normalized is None\n",
    "            or self.inv_std is None\n",
    "        ):\n",
    "            raise RuntimeError(\n",
    "                \"Backward pass called in train mode without prior training forward pass or with batch_size=1.\"\n",
    "            )\n",
    "\n",
    "        N = self.input_shape[0]\n",
    "        if N == 1:  # Градиент не определен для N=1 в train\n",
    "            print(\n",
    "                \"Warning: BN backward called in train mode with batch_size=1. Returning zero grad.\"\n",
    "            )\n",
    "            self.gradInput = np.zeros_like(input)\n",
    "            return self.gradInput.astype(input_dtype)\n",
    "\n",
    "        gradOutput_sum = np.sum(gradOutput, axis=0, keepdims=True)\n",
    "        gradOutput_x_output_sum = np.sum(\n",
    "            gradOutput * self.input_normalized, axis=0, keepdims=True\n",
    "        )\n",
    "\n",
    "        self.gradInput = (\n",
    "            (1.0 / N)\n",
    "            * self.inv_std\n",
    "            * (\n",
    "                N * gradOutput\n",
    "                - gradOutput_sum\n",
    "                - self.input_normalized * gradOutput_x_output_sum\n",
    "            )\n",
    "        )\n",
    "        return self.gradInput.astype(input_dtype)\n",
    "\n",
    "    def __repr__(self):\n",
    "        n_feats = (\n",
    "            self.moving_mean.shape[1] if self.moving_mean is not None else \"Unknown\"\n",
    "        )\n",
    "        return f\"BatchNormalization(n_features={n_feats}, alpha={self.alpha})\""
   ]
  },
  {
   "cell_type": "code",
   "execution_count": 9,
   "metadata": {
    "collapsed": true,
    "id": "8XUS3Lt-j6eb",
    "jupyter": {
     "outputs_hidden": true
    }
   },
   "outputs": [],
   "source": [
    "class ChannelwiseScaling(Module):\n",
    "    \"\"\"Применяет обучаемый масштаб и сдвиг по каналам.\"\"\"\n",
    "\n",
    "    def __init__(self, n_features):\n",
    "        super(ChannelwiseScaling, self).__init__()\n",
    "        self.gamma = np.ones(n_features)  # Веса (масштаб)\n",
    "        self.beta = np.zeros(n_features)  # Смещения (сдвиг)\n",
    "        self.gradGamma = np.zeros_like(self.gamma)\n",
    "        self.gradBeta = np.zeros_like(self.beta)\n",
    "        self.current_input = None  # Кэшируем вход для backward\n",
    "\n",
    "    def updateOutput(self, input):\n",
    "        if input.shape[-1] != self.gamma.shape[0]:\n",
    "            raise ValueError(\n",
    "                f\"Input feature size {input.shape[-1]} != layer feature size {self.gamma.shape[0]}\"\n",
    "            )\n",
    "        self.current_input = input\n",
    "        # Broadcasting: (N, F) * (F,) + (F,) -> (N, F) или (N, C, H, W) * (C,) ...\n",
    "        # Нужно, чтобы gamma/beta применялись к оси каналов/фичей (обычно ось 1 для Conv, ось -1 для Linear)\n",
    "        # Сделаем универсальнее, предполагая, что последняя ось - фичи\n",
    "        if input.ndim == 2:  # После Linear/Flatten\n",
    "            self.output = self.gamma * input + self.beta\n",
    "        elif input.ndim == 4:  # После Conv\n",
    "            # gamma/beta shape (C,) -> reshape to (1, C, 1, 1) for broadcasting\n",
    "            gamma_reshaped = self.gamma.reshape(1, -1, 1, 1)\n",
    "            beta_reshaped = self.beta.reshape(1, -1, 1, 1)\n",
    "            self.output = gamma_reshaped * input + beta_reshaped\n",
    "        else:\n",
    "            raise NotImplementedError(\"ChannelwiseScaling only supports 2D or 4D input\")\n",
    "\n",
    "        return self.output\n",
    "\n",
    "    def updateGradInput(self, input, gradOutput):\n",
    "        # dL/dInput = dL/dOutput * gamma\n",
    "        if input.ndim == 2:\n",
    "            self.gradInput = gradOutput * self.gamma\n",
    "        elif input.ndim == 4:\n",
    "            gamma_reshaped = self.gamma.reshape(1, -1, 1, 1)\n",
    "            self.gradInput = gradOutput * gamma_reshaped\n",
    "        else:  # Должно совпадать с updateOutput\n",
    "            raise NotImplementedError(\n",
    "                \"ChannelwiseScaling only supports 2D or 4D input for backward\"\n",
    "            )\n",
    "        return self.gradInput\n",
    "\n",
    "    def accGradParameters(self, input, gradOutput):\n",
    "        if self.current_input is None:\n",
    "            raise RuntimeError(\"Need to run forward pass before accGradParameters.\")\n",
    "        # dL/dGamma = sum(dL/dOutput * input) по не-фичевым осям\n",
    "        # dL/dBeta = sum(dL/dOutput) по не-фичевым осям\n",
    "        if self.current_input.ndim == 2:\n",
    "            axis_to_sum = (0,)\n",
    "        elif self.current_input.ndim == 4:\n",
    "            axis_to_sum = (0, 2, 3)\n",
    "        else:  # Должно совпадать с updateOutput\n",
    "            raise NotImplementedError(\n",
    "                \"ChannelwiseScaling only supports 2D or 4D input for accGrad\"\n",
    "            )\n",
    "\n",
    "        self.gradGamma += np.sum(gradOutput * self.current_input, axis=axis_to_sum)\n",
    "        self.gradBeta += np.sum(gradOutput, axis=axis_to_sum)\n",
    "\n",
    "    def zeroGradParameters(self):\n",
    "        self.gradGamma.fill(0)\n",
    "        self.gradBeta.fill(0)\n",
    "\n",
    "    def getParameters(self):\n",
    "        return [self.gamma, self.beta]\n",
    "\n",
    "    def getGradParameters(self):\n",
    "        return [self.gradGamma, self.gradBeta]\n",
    "\n",
    "    def __repr__(self):\n",
    "        return f\"ChannelwiseScaling(n_features={self.gamma.shape[0]})\""
   ]
  },
  {
   "cell_type": "markdown",
   "metadata": {
    "id": "vA5zjM3jj6eb"
   },
   "source": [
    "Practical notes. If BatchNormalization is placed after a linear transformation layer (including dense layer, convolutions, channelwise scaling) that implements function like `y = weight * x + bias`, than bias adding become useless and could be omitted since its effect will be discarded while batch mean subtraction. If BatchNormalization (followed by `ChannelwiseScaling`) is placed before a layer that propagates scale (including ReLU, LeakyReLU) followed by any linear transformation layer than parameter `gamma` in `ChannelwiseScaling` could be freezed since it could be absorbed into the linear transformation layer."
   ]
  },
  {
   "cell_type": "markdown",
   "metadata": {
    "id": "Gackeo1cj6eb"
   },
   "source": [
    "## 5. (0.3) Dropout\n",
    "Implement [**dropout**](https://www.cs.toronto.edu/~hinton/absps/JMLRdropout.pdf). The idea and implementation is really simple: just multimply the input by $Bernoulli(p)$ mask. Here $p$ is probability of an element to be zeroed.\n",
    "\n",
    "This has proven to be an effective technique for regularization and preventing the co-adaptation of neurons.\n",
    "\n",
    "While training (`self.training == True`) it should sample a mask on each iteration (for every batch), zero out elements and multiply elements by $1 / (1 - p)$. The latter is needed for keeping mean values of features close to mean values which will be in test mode. When testing this module should implement identity transform i.e. `self.output = input`.\n",
    "\n",
    "- input:   **`batch_size x n_feats`**\n",
    "- output: **`batch_size x n_feats`**"
   ]
  },
  {
   "cell_type": "code",
   "execution_count": 10,
   "metadata": {
    "id": "NmLQV3jXj6eb"
   },
   "outputs": [],
   "source": [
    "class Dropout(Module):\n",
    "    \"\"\"Dropout layer.\"\"\"\n",
    "\n",
    "    def __init__(self, p=0.5):\n",
    "        super(Dropout, self).__init__()\n",
    "        if not (0.0 <= p < 1.0):\n",
    "            raise ValueError(\"Dropout probability p must be in range [0, 1)\")\n",
    "        self.p = p  # Вероятность зануления\n",
    "        self.mask = None\n",
    "\n",
    "    def updateOutput(self, input):\n",
    "        if self.training:\n",
    "            # Вероятность СОХРАНЕНИЯ элемента = 1 - p\n",
    "            self.mask = np.random.binomial(\n",
    "                n=1, p=(1.0 - self.p), size=input.shape\n",
    "            ).astype(input.dtype)\n",
    "            # Масштабирование (inverted dropout)\n",
    "            scale_factor = (\n",
    "                1.0 / (1.0 - self.p) if self.p < 1.0 else 0.0\n",
    "            )  # Деление на ноль если p=1\n",
    "            self.output = input * self.mask * scale_factor\n",
    "        else:\n",
    "            self.output = input\n",
    "            self.mask = None  # Не нужна в режиме eval\n",
    "        return self.output\n",
    "\n",
    "    def updateGradInput(self, input, gradOutput):\n",
    "        if self.training:\n",
    "            if self.mask is None:\n",
    "                raise RuntimeError(\n",
    "                    \"Dropout mask is not available. Run forward pass in training mode first.\"\n",
    "                )\n",
    "            scale_factor = 1.0 / (1.0 - self.p) if self.p < 1.0 else 0.0\n",
    "            self.gradInput = gradOutput * self.mask * scale_factor\n",
    "        else:\n",
    "            self.gradInput = gradOutput\n",
    "        return self.gradInput\n",
    "\n",
    "    def __repr__(self):\n",
    "        return f\"Dropout(p={self.p})\""
   ]
  },
  {
   "cell_type": "markdown",
   "metadata": {
    "id": "-WHGIqJFlhz2"
   },
   "source": [
    "# 6. (2.0) Conv2d\n",
    "Implement [**Conv2d**](https://pytorch.org/docs/stable/generated/torch.nn.Conv2d.html). Use only this list of parameters: (in_channels, out_channels, kernel_size, stride, padding, bias, padding_mode) and fix dilation=1 and groups=1."
   ]
  },
  {
   "cell_type": "code",
   "execution_count": 11,
   "metadata": {},
   "outputs": [],
   "source": [
    "def _pair(x, name=\"parameter\"):\n",
    "    if isinstance(x, int):\n",
    "        return (x, x)\n",
    "    if isinstance(x, tuple) and len(x) == 2 and all(isinstance(i, int) for i in x):\n",
    "        return x\n",
    "    raise ValueError(f\"{name} must be int or tuple of 2 ints, but got {x}\")\n",
    "\n",
    "\n",
    "def _calculate_same_padding(input_size, kernel_size, stride):\n",
    "    output_size = (input_size + stride - 1) // stride\n",
    "    total_padding = max(0, (output_size - 1) * stride + kernel_size - input_size)\n",
    "    pad_before = total_padding // 2\n",
    "    pad_after = total_padding - pad_before\n",
    "    return pad_before, pad_after\n",
    "\n",
    "\n",
    "def get_im2col_indices(\n",
    "    x_shape, kernel_h, kernel_w, stride_h, stride_w, pad_h_total, pad_w_total\n",
    "):\n",
    "    N, C, H, W = x_shape\n",
    "    out_height = (H + pad_h_total - kernel_h) // stride_h + 1\n",
    "    out_width = (W + pad_w_total - kernel_w) // stride_w + 1\n",
    "    if out_height <= 0 or out_width <= 0:\n",
    "        raise ValueError(f\"Output size non-positive H={out_height}, W={out_width}\")\n",
    "    i0 = np.tile(np.repeat(np.arange(kernel_h), kernel_w), C)\n",
    "    j0 = np.tile(np.tile(np.arange(kernel_w), kernel_h), C)\n",
    "    i1 = stride_h * np.repeat(np.arange(out_height), out_width)\n",
    "    j1 = stride_w * np.tile(np.arange(out_width), out_height)\n",
    "    i = i0[:, None] + i1[None, :]\n",
    "    j = j0[:, None] + j1[None, :]\n",
    "    k = np.repeat(np.arange(C), kernel_h * kernel_w)\n",
    "    return k.astype(int), i.astype(int), j.astype(int), out_height, out_width\n",
    "\n",
    "\n",
    "def im2col_indices(x, kernel_h, kernel_w, stride_h, stride_w, pad_tuple, padding_mode):\n",
    "    N, C, H, W = x.shape\n",
    "    pad_top, pad_bottom, pad_left, pad_right = pad_tuple\n",
    "    pad_h_total = pad_top + pad_bottom\n",
    "    pad_w_total = pad_left + pad_right\n",
    "    if pad_h_total > 0 or pad_w_total > 0:\n",
    "        np_pad_width = ((0, 0), (0, 0), (pad_top, pad_bottom), (pad_left, pad_right))\n",
    "        mode_map = {\"zeros\": \"constant\", \"reflect\": \"reflect\", \"replicate\": \"edge\"}\n",
    "        if padding_mode not in mode_map:\n",
    "            raise ValueError(f\"Unsupported padding: {padding_mode}\")\n",
    "        x_padded = np.pad(\n",
    "            x,\n",
    "            np_pad_width,\n",
    "            mode=mode_map[padding_mode],\n",
    "            **({\"constant_values\": 0} if padding_mode == \"zeros\" else {}),\n",
    "        )\n",
    "    else:\n",
    "        x_padded = x\n",
    "    k, i_rel_padded, j_rel_padded, H_out, W_out = get_im2col_indices(\n",
    "        x.shape, kernel_h, kernel_w, stride_h, stride_w, pad_h_total, pad_w_total\n",
    "    )\n",
    "    cols = x_padded[:, k[:, None], i_rel_padded, j_rel_padded]\n",
    "    cols = cols.transpose(1, 0, 2).reshape(C * kernel_h * kernel_w, N * H_out * W_out)\n",
    "    output_shape_info = (N, -1, H_out, W_out)\n",
    "    return cols, output_shape_info\n",
    "\n",
    "\n",
    "def col2im_indices(cols, x_shape, kernel_h, kernel_w, stride_h, stride_w, pad_tuple):\n",
    "    N, C, H, W = x_shape\n",
    "    pad_top, pad_bottom, pad_left, pad_right = pad_tuple\n",
    "    pad_h_total = pad_top + pad_bottom\n",
    "    pad_w_total = pad_left + pad_right\n",
    "    H_padded = H + pad_h_total\n",
    "    W_padded = W + pad_w_total\n",
    "    k, i_rel_padded, j_rel_padded, H_out, W_out = get_im2col_indices(\n",
    "        x_shape, kernel_h, kernel_w, stride_h, stride_w, pad_h_total, pad_w_total\n",
    "    )\n",
    "    x_padded_grad = np.zeros((N, C, H_padded, W_padded), dtype=cols.dtype)\n",
    "    cols_reshaped = cols.reshape(C * kernel_h * kernel_w, N, H_out * W_out).transpose(\n",
    "        1, 0, 2\n",
    "    )\n",
    "    idx_n = np.arange(N)[:, None, None]\n",
    "    np.add.at(\n",
    "        x_padded_grad,\n",
    "        (idx_n, k[None, :, None], i_rel_padded[None, :, :], j_rel_padded[None, :, :]),\n",
    "        cols_reshaped,\n",
    "    )\n",
    "    if pad_h_total == 0 and pad_w_total == 0:\n",
    "        return x_padded_grad\n",
    "    else:\n",
    "        return x_padded_grad[\n",
    "            :, :, pad_top : H_padded - pad_bottom, pad_left : W_padded - pad_right\n",
    "        ]"
   ]
  },
  {
   "cell_type": "code",
   "execution_count": 12,
   "metadata": {},
   "outputs": [],
   "source": [
    "class Conv2d(Module):\n",
    "    def __init__(\n",
    "        self,\n",
    "        in_channels,\n",
    "        out_channels,\n",
    "        kernel_size,\n",
    "        stride=1,\n",
    "        padding=0,\n",
    "        bias=True,\n",
    "        padding_mode=\"zeros\",\n",
    "    ):\n",
    "        super(Conv2d, self).__init__()\n",
    "        self.in_channels = in_channels\n",
    "        self.out_channels = out_channels\n",
    "        self.kernel_size = _pair(kernel_size)\n",
    "        self.stride = _pair(stride)\n",
    "        self.padding_arg = padding\n",
    "        self.use_bias = bias\n",
    "        if padding_mode not in [\"zeros\", \"reflect\", \"replicate\"]:\n",
    "            raise ValueError(f\"Unsupported padding_mode: {padding_mode}\")\n",
    "        self.padding_mode = padding_mode\n",
    "        fan_in = self.in_channels * self.kernel_size[0] * self.kernel_size[1]\n",
    "        bound = np.sqrt(6.0 / fan_in) if fan_in > 0 else 0\n",
    "        self.W = np.random.uniform(\n",
    "            -bound,\n",
    "            bound,\n",
    "            (out_channels, in_channels, self.kernel_size[0], self.kernel_size[1]),\n",
    "        ).astype(np.float64)\n",
    "        self.gradW = np.zeros_like(self.W)\n",
    "        if self.use_bias:\n",
    "            bound_b = 1.0 / np.sqrt(fan_in) if fan_in > 0 else 0\n",
    "            self.b = np.random.uniform(-bound_b, bound_b, out_channels).astype(\n",
    "                np.float64\n",
    "            )\n",
    "            self.gradB = np.zeros_like(self.b)\n",
    "        else:\n",
    "            self.b = None\n",
    "            self.gradB = None\n",
    "        self.input_shape = None\n",
    "        self.cols = None\n",
    "        self.calculated_padding_tuple = None\n",
    "        self.output_shape_info = None\n",
    "        # Добавим атрибуты weight/bias для совместимости с кодом теста\n",
    "        self.weight = self.W\n",
    "        self.bias = self.b\n",
    "\n",
    "    def _resolve_padding(self, H_in, W_in):\n",
    "        KH, KW = self.kernel_size\n",
    "        SH, SW = self.stride\n",
    "        if isinstance(self.padding_arg, str):\n",
    "            pad_str = self.padding_arg.lower()\n",
    "            pt, pb, pl, pr = 0, 0, 0, 0\n",
    "            if pad_str == \"valid\":\n",
    "                pass\n",
    "            elif pad_str == \"same\":\n",
    "                pt, pb = _calculate_same_padding(H_in, KH, SH)\n",
    "                pl, pr = _calculate_same_padding(W_in, KW, SW)\n",
    "            else:\n",
    "                raise ValueError(f\"Unknown padding string: {self.padding_arg}\")\n",
    "            return (pt, pb, pl, pr)\n",
    "        else:\n",
    "            PH, PW = _pair(self.padding_arg)\n",
    "            return (PH, PH, PW, PW)\n",
    "\n",
    "    def updateOutput(self, input):\n",
    "        input_dtype = input.dtype\n",
    "        input_f64 = input.astype(np.float64, copy=False)\n",
    "        self.input_shape = input.shape\n",
    "        N, C_in, H_in, W_in = self.input_shape\n",
    "        KH, KW = self.kernel_size\n",
    "        SH, SW = self.stride\n",
    "        if C_in != self.in_channels:\n",
    "            raise ValueError(\"Input channel mismatch\")\n",
    "        self.calculated_padding_tuple = self._resolve_padding(H_in, W_in)\n",
    "        self.cols, self.output_shape_info = im2col_indices(\n",
    "            input_f64, KH, KW, SH, SW, self.calculated_padding_tuple, self.padding_mode\n",
    "        )\n",
    "        W_flat = self.W.reshape(self.out_channels, -1)\n",
    "        result = W_flat @ self.cols\n",
    "        if self.use_bias:\n",
    "            result += self.b.reshape(-1, 1)\n",
    "        N_out, _, H_out, W_out = self.output_shape_info\n",
    "        try:\n",
    "            self.output = result.reshape(\n",
    "                self.out_channels, N_out, H_out, W_out\n",
    "            ).transpose(1, 0, 2, 3)\n",
    "        except ValueError as e:\n",
    "            raise ValueError(f\"Output reshape error: {e}\")\n",
    "        return self.output.astype(input_dtype)\n",
    "\n",
    "    def updateGradInput(self, input, gradOutput):\n",
    "        input_dtype = input.dtype\n",
    "        gradOutput_f64 = gradOutput.astype(np.float64, copy=False)\n",
    "        if self.input_shape is None or self.calculated_padding_tuple is None:\n",
    "            raise RuntimeError(\"Need forward pass\")\n",
    "        N, C_out, H_out, W_out = gradOutput.shape\n",
    "        KH, KW = self.kernel_size\n",
    "        SH, SW = self.stride\n",
    "        gradOutput_flat = gradOutput_f64.transpose(1, 0, 2, 3).reshape(\n",
    "            self.out_channels, -1\n",
    "        )\n",
    "        W_flat = self.W.reshape(self.out_channels, -1)\n",
    "        grad_cols = W_flat.T @ gradOutput_flat\n",
    "        self.gradInput = col2im_indices(\n",
    "            grad_cols, self.input_shape, KH, KW, SH, SW, self.calculated_padding_tuple\n",
    "        )\n",
    "        return self.gradInput.astype(input_dtype)\n",
    "\n",
    "    def accGradParameters(self, input, gradOutput):\n",
    "        gradOutput_f64 = gradOutput.astype(np.float64, copy=False)\n",
    "        if self.cols is None:\n",
    "            raise RuntimeError(\"Need forward pass\")\n",
    "        N, C_out, H_out, W_out = gradOutput.shape\n",
    "        KH, KW = self.kernel_size\n",
    "        if self.use_bias:  # Исправлено\n",
    "            if self.gradB is None:\n",
    "                raise RuntimeError(\"gradB missing\")\n",
    "            self.gradB += np.sum(gradOutput_f64, axis=(0, 2, 3))\n",
    "        if self.gradW is None:\n",
    "            raise RuntimeError(\"gradW missing\")\n",
    "        gradOutput_flat = gradOutput_f64.transpose(1, 0, 2, 3).reshape(\n",
    "            self.out_channels, -1\n",
    "        )\n",
    "        gradW_flat = gradOutput_flat @ self.cols.T\n",
    "        self.gradW += gradW_flat.reshape(self.W.shape)\n",
    "\n",
    "    def zeroGradParameters(self):\n",
    "        if hasattr(self, \"gradW\") and self.gradW is not None:\n",
    "            self.gradW.fill(0)\n",
    "        if self.use_bias and hasattr(self, \"gradB\") and self.gradB is not None:\n",
    "            self.gradB.fill(0)\n",
    "\n",
    "    def getParameters(self):\n",
    "        return [self.W, self.b] if self.use_bias else [self.W]\n",
    "\n",
    "    def getGradParameters(self):\n",
    "        return [self.gradW, self.gradB] if self.use_bias else [self.gradW]\n",
    "\n",
    "    def __repr__(self):  # Исправлено\n",
    "        s = f\"Conv2d({self.in_channels},{self.out_channels},K={self.kernel_size},S={self.stride},P={self.padding_arg}\"\n",
    "        if self.padding_mode != \"zeros\":\n",
    "            s += f\",mode={self.padding_mode}\"\n",
    "        if not self.use_bias:\n",
    "            s += \",bias=False\"\n",
    "        return s + \")\""
   ]
  },
  {
   "cell_type": "markdown",
   "metadata": {
    "id": "updUVZE9qixP"
   },
   "source": [
    "#7. (0.5) Implement [**MaxPool2d**](https://pytorch.org/docs/stable/generated/torch.nn.MaxPool2d.html) and [**AvgPool2d**](https://pytorch.org/docs/stable/generated/torch.nn.AvgPool2d.html). Use only parameters like kernel_size, stride, padding (negative infinity for maxpool and zero for avgpool) and other parameters fixed as in framework."
   ]
  },
  {
   "cell_type": "code",
   "execution_count": 13,
   "metadata": {
    "id": "Qys58EzkqhLj"
   },
   "outputs": [],
   "source": [
    "# --- MaxPool2d (Исправленный) ---\n",
    "class MaxPool2d(Module):\n",
    "    def __init__(self, kernel_size, stride=None, padding=0):\n",
    "        super(MaxPool2d, self).__init__()\n",
    "        self.kernel_size = _pair(kernel_size, \"kernel_size\")\n",
    "        self.stride = _pair(stride if stride is not None else kernel_size, \"stride\")\n",
    "        # --- ИЗМЕНЕНИЕ: Сохраняем padding как аргумент для _resolve_padding ---\n",
    "        # self.padding = _pair(padding, \"padding\") # Старое\n",
    "        self.padding_arg = padding  # Новое имя для аргумента\n",
    "\n",
    "        if any(s > k for s, k in zip(self.stride, self.kernel_size)):\n",
    "            print(\n",
    "                f\"Warning: MaxPool2d stride {self.stride} > kernel_size {self.kernel_size}. This is unusual.\"\n",
    "            )\n",
    "        self.max_indices = None  # Индексы максимумов\n",
    "        self.input_shape = None\n",
    "        self.calculated_padding_tuple = None  # Кэшируем кортеж паддинга\n",
    "\n",
    "    # --- ДОБАВЛЕНО: Метод для вычисления кортежа паддинга (как в Conv2d) ---\n",
    "    #     (Предполагаем, что MaxPool не поддерживает 'same'/'valid' строки, только числа)\n",
    "    def _resolve_padding(self, H_in, W_in):\n",
    "        \"\"\"Вычисляет (top, bottom, left, right) паддинг для MaxPool.\"\"\"\n",
    "        # MaxPool обычно использует только числовой паддинг\n",
    "        try:\n",
    "            PH, PW = _pair(self.padding_arg, \"padding\")\n",
    "            return (PH, PH, PW, PW)  # Симметричный паддинг\n",
    "        except ValueError:\n",
    "            raise ValueError(\n",
    "                f\"MaxPool2d padding must be int or tuple of 2 ints, got {self.padding_arg}\"\n",
    "            )\n",
    "\n",
    "    def updateOutput(self, input):\n",
    "        input_dtype = input.dtype\n",
    "        input_f64 = input.astype(np.float64, copy=False)  # Используем float64\n",
    "        self.input_shape = input.shape\n",
    "        N, C, H_in, W_in = self.input_shape\n",
    "        KH, KW = self.kernel_size\n",
    "        SH, SW = self.stride\n",
    "        # --- ИЗМЕНЕНИЕ: Вычисляем и кэшируем кортеж паддинга ---\n",
    "        self.calculated_padding_tuple = self._resolve_padding(H_in, W_in)\n",
    "        pad_top, pad_bottom, pad_left, pad_right = self.calculated_padding_tuple\n",
    "        pad_h_total = pad_top + pad_bottom\n",
    "        pad_w_total = pad_left + pad_right\n",
    "        # -------------------------------------------------------\n",
    "\n",
    "        H_out = (H_in + pad_h_total - KH) // SH + 1  # Используем общие отступы\n",
    "        W_out = (W_in + pad_w_total - KW) // SW + 1\n",
    "        if H_out <= 0 or W_out <= 0:\n",
    "            raise ValueError(f\"Output size non-positive ({H_out}x{W_out})\")\n",
    "\n",
    "        # --- ИЗМЕНЕНИЕ: Правильный вызов im2col_indices ---\n",
    "        # MaxPool требует паддинг -inf, НО НАША im2col/col2im это пока не поддерживают.\n",
    "        # Используем 'zeros' временно, чтобы исправить TypeError.\n",
    "        # Для полной корректности MaxPool с паддингом нужна доработка im2col/col2im.\n",
    "        current_padding_mode = \"zeros\"\n",
    "        cols, _ = im2col_indices(  # Используем _ чтобы игнорировать output_shape_info\n",
    "            input_f64,\n",
    "            KH,\n",
    "            KW,\n",
    "            SH,\n",
    "            SW,\n",
    "            pad_tuple=self.calculated_padding_tuple,  # Передаем кортеж\n",
    "            padding_mode=current_padding_mode,  # Передаем режим\n",
    "        )\n",
    "        # --- КОНЕЦ ИЗМЕНЕНИЯ ---\n",
    "\n",
    "        cols_reshaped = cols.reshape(C, KH * KW, -1)\n",
    "        max_vals = np.max(cols_reshaped, axis=1)\n",
    "        self.max_indices = np.argmax(cols_reshaped, axis=1)\n",
    "\n",
    "        try:\n",
    "            self.output = max_vals.reshape(C, N, H_out, W_out).transpose(1, 0, 2, 3)\n",
    "        except ValueError as e:\n",
    "            raise ValueError(f\"MaxPool2d reshape error: {e}\")\n",
    "\n",
    "        return self.output.astype(input_dtype)  # Возвращаем исходный тип\n",
    "\n",
    "    def updateGradInput(self, input, gradOutput):\n",
    "        input_dtype = input.dtype  # Сохраняем тип\n",
    "        # Переводим gradOutput в float64 для вычислений\n",
    "        gradOutput_f64 = gradOutput.astype(np.float64, copy=False)\n",
    "\n",
    "        if (\n",
    "            self.max_indices is None\n",
    "            or self.input_shape is None\n",
    "            or self.calculated_padding_tuple is None\n",
    "        ):\n",
    "            raise RuntimeError(\"Need forward pass first for MaxPool2d backward.\")\n",
    "        N, C, H_in, W_in = self.input_shape\n",
    "        KH, KW = self.kernel_size\n",
    "        SH, SW = self.stride\n",
    "        # PH, PW не нужны напрямую, используем calculated_padding_tuple\n",
    "        _, _, H_out, W_out = gradOutput.shape\n",
    "\n",
    "        grad_cols_shape = (C * KH * KW, N * H_out * W_out)\n",
    "        grad_cols = np.zeros(\n",
    "            grad_cols_shape, dtype=gradOutput_f64.dtype\n",
    "        )  # Используем float64\n",
    "\n",
    "        gradOutput_flat = gradOutput_f64.transpose(1, 0, 2, 3).reshape(C, -1)\n",
    "\n",
    "        channel_offsets = np.arange(C)[:, None] * (KH * KW)\n",
    "        row_indices = channel_offsets + self.max_indices  # Индексы строк в grad_cols\n",
    "\n",
    "        col_indices = np.arange(N * H_out * W_out)[None, :]  # Индексы столбцов\n",
    "\n",
    "        flat_row_indices = row_indices.ravel()\n",
    "        flat_col_indices = np.tile(col_indices, (C, 1)).ravel()\n",
    "        flat_gradOutput = gradOutput_flat.ravel()\n",
    "\n",
    "        # Используем np.add.at (все вычисления в float64)\n",
    "        np.add.at(grad_cols, (flat_row_indices, flat_col_indices), flat_gradOutput)\n",
    "\n",
    "        # --- ИЗМЕНЕНИЕ: Правильный вызов col2im_indices ---\n",
    "        self.gradInput = col2im_indices(\n",
    "            grad_cols,\n",
    "            self.input_shape,  # Оригинальная форма входа\n",
    "            KH,\n",
    "            KW,\n",
    "            SH,\n",
    "            SW,\n",
    "            self.calculated_padding_tuple,  # Передаем сохраненный кортеж\n",
    "        )\n",
    "        # --- КОНЕЦ ИЗМЕНЕНИЯ ---\n",
    "        return self.gradInput.astype(input_dtype)  # Возвращаем исходный тип\n",
    "\n",
    "    def __repr__(self):\n",
    "        # Используем self.padding_arg для отображения исходного значения\n",
    "        return f\"MaxPool2d(kernel_size={self.kernel_size}, stride={self.stride}, padding={self.padding_arg})\"\n",
    "\n",
    "\n",
    "# --- AvgPool2d (Исправленный) ---\n",
    "class AvgPool2d(Module):\n",
    "    def __init__(self, kernel_size, stride=None, padding=0):\n",
    "        super(AvgPool2d, self).__init__()\n",
    "        self.kernel_size = _pair(kernel_size, \"kernel_size\")\n",
    "        self.stride = _pair(stride if stride is not None else kernel_size, \"stride\")\n",
    "        # --- ИЗМЕНЕНИЕ: Сохраняем padding как аргумент для _resolve_padding ---\n",
    "        self.padding_arg = padding\n",
    "        self.pool_size = self.kernel_size[0] * self.kernel_size[1]\n",
    "        if self.pool_size == 0:\n",
    "            raise ValueError(\"Pool size cannot be zero\")\n",
    "        self.input_shape = None\n",
    "        self.calculated_padding_tuple = None  # Кэшируем кортеж паддинга\n",
    "\n",
    "    # --- ДОБАВЛЕНО: Метод для вычисления кортежа паддинга ---\n",
    "    def _resolve_padding(self, H_in, W_in):\n",
    "        \"\"\"Вычисляет (top, bottom, left, right) паддинг для AvgPool.\"\"\"\n",
    "        # AvgPool обычно использует только числовой паддинг\n",
    "        try:\n",
    "            PH, PW = _pair(self.padding_arg, \"padding\")\n",
    "            return (PH, PH, PW, PW)  # Симметричный паддинг\n",
    "        except ValueError:\n",
    "            raise ValueError(\n",
    "                f\"AvgPool2d padding must be int or tuple of 2 ints, got {self.padding_arg}\"\n",
    "            )\n",
    "\n",
    "    def updateOutput(self, input):\n",
    "        input_dtype = input.dtype\n",
    "        input_f64 = input.astype(np.float64, copy=False)  # Используем float64\n",
    "        self.input_shape = input.shape\n",
    "        N, C, H_in, W_in = self.input_shape\n",
    "        KH, KW = self.kernel_size\n",
    "        SH, SW = self.stride\n",
    "        # --- ИЗМЕНЕНИЕ: Вычисляем и кэшируем кортеж паддинга ---\n",
    "        self.calculated_padding_tuple = self._resolve_padding(H_in, W_in)\n",
    "        pad_top, pad_bottom, pad_left, pad_right = self.calculated_padding_tuple\n",
    "        pad_h_total = pad_top + pad_bottom\n",
    "        pad_w_total = pad_left + pad_right\n",
    "        # -------------------------------------------------------\n",
    "\n",
    "        H_out = (H_in + pad_h_total - KH) // SH + 1\n",
    "        W_out = (W_in + pad_w_total - KW) // SW + 1\n",
    "        if H_out <= 0 or W_out <= 0:\n",
    "            raise ValueError(f\"Output size non-positive ({H_out}x{W_out})\")\n",
    "\n",
    "        # --- ИЗМЕНЕНИЕ: Правильный вызов im2col_indices ---\n",
    "        current_padding_mode = \"zeros\"  # AvgPool всегда использует нули\n",
    "        cols, _ = im2col_indices(  # Игнорируем output_shape_info\n",
    "            input_f64,\n",
    "            KH,\n",
    "            KW,\n",
    "            SH,\n",
    "            SW,\n",
    "            pad_tuple=self.calculated_padding_tuple,  # Передаем кортеж\n",
    "            padding_mode=current_padding_mode,  # Передаем режим\n",
    "        )\n",
    "        # --- КОНЕЦ ИЗМЕНЕНИЯ ---\n",
    "\n",
    "        cols_reshaped = cols.reshape(C, KH * KW, -1)\n",
    "        avg_vals = np.mean(cols_reshaped, axis=1)  # Вычисления в float64\n",
    "\n",
    "        try:\n",
    "            self.output = avg_vals.reshape(C, N, H_out, W_out).transpose(1, 0, 2, 3)\n",
    "        except ValueError as e:\n",
    "            raise ValueError(f\"AvgPool2d reshape error: {e}\")\n",
    "\n",
    "        return self.output.astype(input_dtype)  # Возвращаем исходный тип\n",
    "\n",
    "    def updateGradInput(self, input, gradOutput):\n",
    "        input_dtype = input.dtype  # Сохраняем тип\n",
    "        gradOutput_f64 = gradOutput.astype(np.float64, copy=False)  # float64\n",
    "\n",
    "        if self.input_shape is None or self.calculated_padding_tuple is None:\n",
    "            raise RuntimeError(\"Need forward pass first.\")\n",
    "        N, C, H_in, W_in = self.input_shape\n",
    "        KH, KW = self.kernel_size\n",
    "        SH, SW = self.stride\n",
    "        # PH, PW не нужны напрямую\n",
    "        _, _, H_out, W_out = gradOutput.shape\n",
    "\n",
    "        gradOutput_flat = gradOutput_f64.transpose(1, 0, 2, 3).reshape(C, -1)\n",
    "        gradOutput_divided = gradOutput_flat / self.pool_size  # float64\n",
    "\n",
    "        grad_cols_per_channel = np.repeat(\n",
    "            gradOutput_divided[:, np.newaxis, :], KH * KW, axis=1\n",
    "        )\n",
    "        grad_cols = grad_cols_per_channel.reshape(C * KH * KW, -1)  # float64\n",
    "\n",
    "        # --- ИЗМЕНЕНИЕ: Правильный вызов col2im_indices ---\n",
    "        self.gradInput = col2im_indices(\n",
    "            grad_cols,\n",
    "            self.input_shape,\n",
    "            KH,\n",
    "            KW,\n",
    "            SH,\n",
    "            SW,\n",
    "            self.calculated_padding_tuple,  # Передаем сохраненный кортеж\n",
    "        )\n",
    "        # --- КОНЕЦ ИЗМЕНЕНИЯ ---\n",
    "        return self.gradInput.astype(input_dtype)  # Возвращаем исходный тип\n",
    "\n",
    "    def __repr__(self):\n",
    "        return f\"AvgPool2d(kernel_size={self.kernel_size}, stride={self.stride}, padding={self.padding_arg})\""
   ]
  },
  {
   "cell_type": "markdown",
   "metadata": {
    "id": "KTN5R3CwrukV"
   },
   "source": [
    "# 8. (0.3) Implement **GlobalMaxPool2d** and **GlobalAvgPool2d**. They do not have testing and parameters are up to you but they must aggregate information within channels. Write test functions for these layers on your own."
   ]
  },
  {
   "cell_type": "code",
   "execution_count": 14,
   "metadata": {},
   "outputs": [],
   "source": [
    "# --- GlobalMaxPool2d ---\n",
    "class GlobalMaxPool2d(Module):\n",
    "    \"\"\"Глобальный Max Pooling.\"\"\"\n",
    "\n",
    "    def __init__(self):\n",
    "        super(GlobalMaxPool2d, self).__init__()\n",
    "        self.input_shape = None\n",
    "        self.max_indices_flat = None\n",
    "\n",
    "    def updateOutput(self, input):\n",
    "        self.input_shape = input.shape\n",
    "        N, C, H, W = self.input_shape\n",
    "        self.output = np.max(input, axis=(2, 3), keepdims=True)\n",
    "        input_reshaped = input.reshape(N, C, H * W)\n",
    "        self.max_indices_flat = np.argmax(input_reshaped, axis=2)  # (N, C)\n",
    "        return self.output\n",
    "\n",
    "    def updateGradInput(self, input, gradOutput):\n",
    "        if self.input_shape is None or self.max_indices_flat is None:\n",
    "            raise RuntimeError(\"Need forward pass first.\")\n",
    "        N, C, H, W = self.input_shape\n",
    "        self.gradInput = np.zeros(self.input_shape, dtype=gradOutput.dtype)\n",
    "        gradOutput_flat = gradOutput.reshape(N, C)\n",
    "        idx_n, idx_c = np.meshgrid(np.arange(N), np.arange(C), indexing=\"ij\")\n",
    "        idx_h, idx_w = np.unravel_index(self.max_indices_flat, (H, W))\n",
    "        self.gradInput[idx_n, idx_c, idx_h, idx_w] = gradOutput_flat\n",
    "        return self.gradInput\n",
    "\n",
    "\n",
    "class GlobalAvgPool2d(Module):\n",
    "    \"\"\"Глобальный Average Pooling.\"\"\"\n",
    "\n",
    "    def __init__(self):\n",
    "        super(GlobalAvgPool2d, self).__init__()\n",
    "        self.input_shape = None\n",
    "\n",
    "    def updateOutput(self, input):\n",
    "        self.input_shape = input.shape\n",
    "        N, C, H, W = self.input_shape\n",
    "        self.output = np.mean(input, axis=(2, 3), keepdims=True)\n",
    "        return self.output\n",
    "\n",
    "    def updateGradInput(self, input, gradOutput):\n",
    "        if self.input_shape is None:\n",
    "            raise RuntimeError(\"Need forward pass first.\")\n",
    "        N, C, H, W = self.input_shape\n",
    "        pool_size = float(H * W)\n",
    "        # Используем broadcasting\n",
    "        self.gradInput = gradOutput / pool_size\n",
    "        # Убедимся, что форма правильная после broadcasting\n",
    "        if self.gradInput.shape != self.input_shape:\n",
    "            self.gradInput = np.broadcast_to(self.gradInput, self.input_shape)\n",
    "        return self.gradInput\n",
    "\n",
    "    # Параметров нет\n",
    "\n",
    "\n",
    "# --- Flatten ---\n",
    "class Flatten(Module):\n",
    "    \"\"\"Слой \"выпрямления\" тензора.\"\"\"\n",
    "\n",
    "    def __init__(self, start_dim=1, end_dim=-1):\n",
    "        super(Flatten, self).__init__()\n",
    "        self.start_dim = start_dim\n",
    "        self.end_dim = end_dim\n",
    "        self.original_shape = None\n",
    "\n",
    "    def updateOutput(self, input):\n",
    "        self.original_shape = input.shape\n",
    "        n_dims = input.ndim\n",
    "        actual_start_dim = (\n",
    "            self.start_dim if self.start_dim >= 0 else n_dims + self.start_dim\n",
    "        )\n",
    "        actual_end_dim = self.end_dim if self.end_dim >= 0 else n_dims + self.end_dim\n",
    "\n",
    "        if not (0 <= actual_start_dim < n_dims):\n",
    "            raise IndexError(\"start_dim out of range\")\n",
    "        if not (0 <= actual_end_dim < n_dims):\n",
    "            raise IndexError(\"end_dim out of range\")\n",
    "        if actual_start_dim > actual_end_dim:\n",
    "            raise ValueError(\"start_dim must be <= end_dim\")\n",
    "\n",
    "        new_shape = list(self.original_shape[:actual_start_dim])\n",
    "        flattened_dim = np.prod(\n",
    "            self.original_shape[actual_start_dim : actual_end_dim + 1], dtype=int\n",
    "        )\n",
    "        new_shape.append(flattened_dim)\n",
    "        new_shape.extend(self.original_shape[actual_end_dim + 1 :])\n",
    "\n",
    "        self.output = input.reshape(tuple(new_shape))\n",
    "        return self.output\n",
    "\n",
    "    def updateGradInput(self, input, gradOutput):\n",
    "        if self.original_shape is None:\n",
    "            raise RuntimeError(\"Need forward pass first.\")\n",
    "        try:\n",
    "            self.gradInput = gradOutput.reshape(self.original_shape)\n",
    "        except ValueError as e:\n",
    "            raise ValueError(\n",
    "                f\"Cannot reshape gradOutput {gradOutput.shape} to original {self.original_shape}. Error: {e}\"\n",
    "            )\n",
    "        return self.gradInput\n",
    "\n",
    "    def __repr__(self):\n",
    "        return f\"Flatten(start_dim={self.start_dim}, end_dim={self.end_dim})\""
   ]
  },
  {
   "cell_type": "markdown",
   "metadata": {
    "id": "cYeBQDBhtViy"
   },
   "source": [
    "# 9. (0.2) Implement [**Flatten**](https://pytorch.org/docs/stable/generated/torch.flatten.html)"
   ]
  },
  {
   "cell_type": "code",
   "execution_count": 15,
   "metadata": {
    "id": "SimPEMOFqhTQ"
   },
   "outputs": [],
   "source": [
    "class Flatten(Module):\n",
    "    \"\"\"\n",
    "    Преобразует многомерный вход в 2D тензор (или другую размерность,\n",
    "    контролируемую start_dim и end_dim), объединяя указанный диапазон осей.\n",
    "    \"\"\"\n",
    "\n",
    "    def __init__(self, start_dim=1, end_dim=-1):\n",
    "        \"\"\"\n",
    "        Args:\n",
    "            start_dim (int): Первая ось для \"сплющивания\". По умолчанию 1 (оставляя батч).\n",
    "            end_dim (int): Последняя ось для \"сплющивания\". По умолчанию -1 (до конца).\n",
    "        \"\"\"\n",
    "        super(Flatten, self).__init__()\n",
    "        self.start_dim = start_dim\n",
    "        self.end_dim = end_dim\n",
    "        self.original_shape = None  # Сохраняем исходную форму для backward\n",
    "\n",
    "    def updateOutput(self, input):\n",
    "        \"\"\"\n",
    "        Выполняет forward pass.\n",
    "        input shape: (d0, d1, ..., dn)\n",
    "        output shape: (d0, ..., d_start-1, D, d_end+1, ..., dn), где D - произведение размеров\n",
    "                      от start_dim до end_dim включительно.\n",
    "        \"\"\"\n",
    "        self.original_shape = input.shape\n",
    "        n_dims = input.ndim\n",
    "\n",
    "        # Нормализуем индексы start_dim и end_dim\n",
    "        actual_start_dim = (\n",
    "            self.start_dim if self.start_dim >= 0 else n_dims + self.start_dim\n",
    "        )\n",
    "        actual_end_dim = self.end_dim if self.end_dim >= 0 else n_dims + self.end_dim\n",
    "\n",
    "        if actual_start_dim < 0 or actual_start_dim >= n_dims:\n",
    "            raise IndexError(\n",
    "                f\"start_dim {self.start_dim} out of range for input with {n_dims} dims\"\n",
    "            )\n",
    "        if actual_end_dim < 0 or actual_end_dim >= n_dims:\n",
    "            raise IndexError(\n",
    "                f\"end_dim {self.end_dim} out of range for input with {n_dims} dims\"\n",
    "            )\n",
    "        if actual_start_dim > actual_end_dim:\n",
    "            raise ValueError(\n",
    "                f\"start_dim ({actual_start_dim}) must be <= end_dim ({actual_end_dim})\"\n",
    "            )\n",
    "\n",
    "        # Собираем новую форму\n",
    "        new_shape = []\n",
    "        # 1. Оси до start_dim\n",
    "        new_shape.extend(self.original_shape[:actual_start_dim])\n",
    "        # 2. \"Сплющенная\" ось (используем -1 для автоматического расчета)\n",
    "        new_shape.append(-1)\n",
    "        # 3. Оси после end_dim\n",
    "        new_shape.extend(self.original_shape[actual_end_dim + 1 :])\n",
    "\n",
    "        # Выполняем reshape\n",
    "        self.output = input.reshape(tuple(new_shape))\n",
    "        return self.output\n",
    "\n",
    "    def updateGradInput(self, input, gradOutput):\n",
    "        \"\"\"\n",
    "        Вычисляет градиент по входу. Это просто reshape обратно к исходной форме.\n",
    "        gradOutput shape: (d0, ..., d_start-1, D, d_end+1, ..., dn)\n",
    "        gradInput shape: (d0, d1, ..., dn) (исходная форма входа)\n",
    "        \"\"\"\n",
    "        if self.original_shape is None:\n",
    "            raise RuntimeError(\n",
    "                \"Need to run forward pass before backward to know the original shape.\"\n",
    "            )\n",
    "\n",
    "        # Просто меняем форму градиента обратно на исходную\n",
    "        try:\n",
    "            self.gradInput = gradOutput.reshape(self.original_shape)\n",
    "        except ValueError as e:\n",
    "            raise ValueError(\n",
    "                f\"Cannot reshape gradOutput shape {gradOutput.shape} \"\n",
    "                f\"back to original input shape {self.original_shape}. Mismatched elements? Error: {e}\"\n",
    "            )\n",
    "\n",
    "        return self.gradInput\n",
    "\n",
    "    def __repr__(self):\n",
    "        return f\"Flatten(start_dim={self.start_dim}, end_dim={self.end_dim})\""
   ]
  },
  {
   "cell_type": "markdown",
   "metadata": {
    "id": "o36vPHSSj6eb"
   },
   "source": [
    "# Activation functions"
   ]
  },
  {
   "cell_type": "markdown",
   "metadata": {
    "id": "l_pryRQIj6ec"
   },
   "source": [
    "Here's the complete example for the **Rectified Linear Unit** non-linearity (aka **ReLU**):"
   ]
  },
  {
   "cell_type": "code",
   "execution_count": 16,
   "metadata": {
    "collapsed": true,
    "id": "sgm8bXjKj6ec",
    "jupyter": {
     "outputs_hidden": true
    }
   },
   "outputs": [],
   "source": [
    "class ReLU(Module):\n",
    "    \"\"\"Rectified Linear Unit.\"\"\"\n",
    "\n",
    "    def __init__(self):\n",
    "        super(ReLU, self).__init__()\n",
    "\n",
    "    def updateOutput(self, input):\n",
    "        self.output = np.maximum(input, 0)\n",
    "        return self.output\n",
    "\n",
    "    def updateGradInput(self, input, gradOutput):\n",
    "        self.gradInput = np.multiply(gradOutput, input > 0)\n",
    "        return self.gradInput\n",
    "\n",
    "    def __repr__(self):\n",
    "        return \"ReLU()\"  # Добавим скобки для консистентности"
   ]
  },
  {
   "cell_type": "markdown",
   "metadata": {
    "id": "yB0UHGagj6ec"
   },
   "source": [
    "## 10. (0.1) Leaky ReLU\n",
    "Implement [**Leaky Rectified Linear Unit**](http://en.wikipedia.org/wiki%2FRectifier_%28neural_networks%29%23Leaky_ReLUs). Expriment with slope."
   ]
  },
  {
   "cell_type": "code",
   "execution_count": 17,
   "metadata": {
    "id": "agwfkwO0j6ec"
   },
   "outputs": [],
   "source": [
    "class LeakyReLU(Module):\n",
    "    \"\"\"Leaky Rectified Linear Unit.\"\"\"\n",
    "\n",
    "    def __init__(self, slope=0.01):\n",
    "        super(LeakyReLU, self).__init__()\n",
    "        if not isinstance(slope, (int, float)):\n",
    "            raise TypeError(\"slope must be a number\")\n",
    "        self.slope = slope\n",
    "\n",
    "    def updateOutput(self, input):\n",
    "        self.output = np.where(input >= 0, input, self.slope * input)\n",
    "        return self.output\n",
    "\n",
    "    def updateGradInput(self, input, gradOutput):\n",
    "        grad_mask = np.where(input >= 0, 1.0, self.slope)\n",
    "        self.gradInput = gradOutput * grad_mask\n",
    "        return self.gradInput\n",
    "\n",
    "    def __repr__(self):\n",
    "        return f\"LeakyReLU(slope={self.slope})\""
   ]
  },
  {
   "cell_type": "markdown",
   "metadata": {
    "id": "t-STyecvj6ec"
   },
   "source": [
    "## 11. (0.1) ELU\n",
    "Implement [**Exponential Linear Units**](http://arxiv.org/abs/1511.07289) activations."
   ]
  },
  {
   "cell_type": "code",
   "execution_count": 18,
   "metadata": {
    "collapsed": true,
    "id": "jJSzEu1mj6ec",
    "jupyter": {
     "outputs_hidden": true
    }
   },
   "outputs": [],
   "source": [
    "class ELU(Module):\n",
    "    \"\"\"Exponential Linear Unit.\"\"\"\n",
    "\n",
    "    def __init__(self, alpha=1.0):\n",
    "        super(ELU, self).__init__()\n",
    "        if not isinstance(alpha, (int, float)) or alpha <= 0:\n",
    "            raise ValueError(\"alpha must be a positive number\")\n",
    "        self.alpha = alpha\n",
    "\n",
    "    def updateOutput(self, input):\n",
    "        self.output = np.where(input >= 0, input, self.alpha * (np.exp(input) - 1.0))\n",
    "        return self.output\n",
    "\n",
    "    def updateGradInput(self, input, gradOutput):\n",
    "        # Используем более прямую форму производной\n",
    "        grad_mask = np.where(input >= 0, 1.0, self.alpha * np.exp(input))\n",
    "        self.gradInput = gradOutput * grad_mask\n",
    "        return self.gradInput\n",
    "\n",
    "    def __repr__(self):\n",
    "        return f\"ELU(alpha={self.alpha})\""
   ]
  },
  {
   "cell_type": "markdown",
   "metadata": {
    "id": "Gn3C7KTqj6ec"
   },
   "source": [
    "## 12. (0.1) SoftPlus\n",
    "Implement [**SoftPlus**](https://en.wikipedia.org/wiki%2FRectifier_%28neural_networks%29) activations. Look, how they look a lot like ReLU."
   ]
  },
  {
   "cell_type": "code",
   "execution_count": 19,
   "metadata": {
    "collapsed": true,
    "id": "xcDPMssrj6ec",
    "jupyter": {
     "outputs_hidden": true
    }
   },
   "outputs": [],
   "source": [
    "class SoftPlus(Module):\n",
    "    \"\"\"SoftPlus activation function.\"\"\"\n",
    "\n",
    "    def __init__(self):\n",
    "        super(SoftPlus, self).__init__()\n",
    "\n",
    "    def updateOutput(self, input):\n",
    "        # Стабильная версия log(1 + exp(x))\n",
    "        self.output = np.logaddexp(0, input)\n",
    "        return self.output\n",
    "\n",
    "    def updateGradInput(self, input, gradOutput):\n",
    "        # Производная = sigmoid(x)\n",
    "        sigmoid_input = 1.0 / (1.0 + np.exp(-input))\n",
    "        self.gradInput = gradOutput * sigmoid_input\n",
    "        return self.gradInput\n",
    "\n",
    "    def __repr__(self):\n",
    "        return \"SoftPlus()\"  # Добавим скобки"
   ]
  },
  {
   "cell_type": "markdown",
   "metadata": {
    "id": "kw3PeZjOuo0e"
   },
   "source": [
    "#13. (0.2) Gelu\n",
    "Implement [**Gelu**](https://pytorch.org/docs/stable/generated/torch.nn.GELU.html) activations."
   ]
  },
  {
   "cell_type": "code",
   "execution_count": 20,
   "metadata": {
    "id": "SdieE0Dtuo8j"
   },
   "outputs": [],
   "source": [
    "class Gelu(Module):\n",
    "    \"\"\"Gaussian Error Linear Unit (аппроксимация tanh).\"\"\"\n",
    "\n",
    "    def __init__(self):\n",
    "        super(Gelu, self).__init__()\n",
    "        self.sqrt_2_div_pi = np.sqrt(2.0 / np.pi)\n",
    "        self.coeff = 0.044715\n",
    "\n",
    "    def _gelu_approx(self, x):\n",
    "        inner = self.sqrt_2_div_pi * (x + self.coeff * np.power(x, 3))\n",
    "        return 0.5 * x * (1.0 + np.tanh(inner))\n",
    "\n",
    "    def _gelu_approx_derivative(self, x):\n",
    "        inner = self.sqrt_2_div_pi * (x + self.coeff * np.power(x, 3))\n",
    "        tanh_inner = np.tanh(inner)\n",
    "        inner_derivative = self.sqrt_2_div_pi * (\n",
    "            1.0 + 3.0 * self.coeff * np.power(x, 2)\n",
    "        )\n",
    "        # Производная от tanh(inner(x)) = sech^2(inner(x)) * inner'(x)\n",
    "        tanh_derivative = (1.0 - np.power(tanh_inner, 2)) * inner_derivative\n",
    "        # Производная от 0.5 * x * (1 + tanh(inner(x))) по правилу произведения f'g + fg'\n",
    "        derivative = 0.5 * (1.0 + tanh_inner) + 0.5 * x * tanh_derivative\n",
    "        return derivative\n",
    "\n",
    "    def updateOutput(self, input):\n",
    "        # Используем float64 для промежуточных вычислений tanh для точности\n",
    "        input_f64 = input.astype(np.float64)\n",
    "        self.output = self._gelu_approx(input_f64)\n",
    "        return self.output.astype(input.dtype)  # Возвращаем исходный тип\n",
    "\n",
    "    def updateGradInput(self, input, gradOutput):\n",
    "        input_f64 = input.astype(np.float64)\n",
    "        gelu_derivative = self._gelu_approx_derivative(input_f64)\n",
    "        self.gradInput = gradOutput * gelu_derivative.astype(gradOutput.dtype)\n",
    "        return self.gradInput\n",
    "\n",
    "    def __repr__(self):\n",
    "        return \"Gelu()\""
   ]
  },
  {
   "cell_type": "markdown",
   "metadata": {
    "id": "55p7UvPAj6ec"
   },
   "source": [
    "# Criterions"
   ]
  },
  {
   "cell_type": "markdown",
   "metadata": {
    "id": "5NFaxZaqj6ec"
   },
   "source": [
    "Criterions are used to score the models answers."
   ]
  },
  {
   "cell_type": "code",
   "execution_count": 21,
   "metadata": {
    "id": "XGu45A8qj6ec"
   },
   "outputs": [],
   "source": [
    "import numpy as np\n",
    "\n",
    "\n",
    "class Criterion(object):\n",
    "    \"\"\"\n",
    "    Базовый класс для функций потерь (критериев).\n",
    "    \"\"\"\n",
    "\n",
    "    def __init__(self):\n",
    "        self.output = None  # Значение функции потерь\n",
    "        self.gradInput = None  # Градиент функции потерь по входу сети (y_pred)\n",
    "\n",
    "    def forward(self, input, target):\n",
    "        \"\"\"\n",
    "        Вычисляет значение функции потерь. Не переопределять, использовать updateOutput.\n",
    "        \"\"\"\n",
    "        return self.updateOutput(input, target)\n",
    "\n",
    "    def backward(self, input, target):\n",
    "        \"\"\"\n",
    "        Вычисляет градиент функции потерь по входу сети. Не переопределять, использовать updateGradInput.\n",
    "        \"\"\"\n",
    "        return self.updateGradInput(input, target)\n",
    "\n",
    "    def updateOutput(self, input, target):\n",
    "        \"\"\"\n",
    "        Вычисляет значение функции потерь. Должен быть переопределен.\n",
    "        Необходимо сохранить результат в self.output и вернуть его.\n",
    "        \"\"\"\n",
    "        raise NotImplementedError\n",
    "\n",
    "    def updateGradInput(self, input, target):\n",
    "        \"\"\"\n",
    "        Вычисляет градиент функции потерь по входу сети (input). Должен быть переопределен.\n",
    "        Необходимо сохранить результат в self.gradInput и вернуть его.\n",
    "        \"\"\"\n",
    "        raise NotImplementedError\n",
    "\n",
    "    def __repr__(self):\n",
    "        \"\"\"\n",
    "        Возвращает строковое представление критерия.\n",
    "        \"\"\"\n",
    "        return self.__class__.__name__ + \"()\""
   ]
  },
  {
   "cell_type": "markdown",
   "metadata": {
    "id": "WuU26xkpj6ec"
   },
   "source": [
    "The **MSECriterion**, which is basic L2 norm usually used for regression, is implemented here for you.\n",
    "- input:   **`batch_size x n_feats`**\n",
    "- target: **`batch_size x n_feats`**\n",
    "- output: **scalar**"
   ]
  },
  {
   "cell_type": "code",
   "execution_count": 22,
   "metadata": {
    "id": "-i3VNuHhj6ec"
   },
   "outputs": [],
   "source": [
    "class MSECriterion(Criterion):\n",
    "    \"\"\"Среднеквадратичная ошибка.\"\"\"\n",
    "\n",
    "    def __init__(self):\n",
    "        super(MSECriterion, self).__init__()\n",
    "\n",
    "    def updateOutput(self, input, target):\n",
    "        if input.shape != target.shape:\n",
    "            raise ValueError(\"Input and target shapes must match\")\n",
    "        sum_sq_diff = np.sum(np.power(input - target, 2))\n",
    "        self.output = sum_sq_diff / input.shape[0]\n",
    "        return self.output\n",
    "\n",
    "    def updateGradInput(self, input, target):\n",
    "        if input.shape != target.shape:\n",
    "            raise ValueError(\"Input and target shapes must match\")\n",
    "        self.gradInput = (input - target) * 2.0 / input.shape[0]\n",
    "        return self.gradInput\n",
    "\n",
    "    def __repr__(self):\n",
    "        return \"MSECriterion()\"  # Добавим скобки"
   ]
  },
  {
   "cell_type": "markdown",
   "metadata": {
    "id": "x8LKLWNVj6ec"
   },
   "source": [
    "## 14. (0.2) Negative LogLikelihood criterion (numerically unstable)\n",
    "You task is to implement the **ClassNLLCriterion**. It should implement [multiclass log loss](http://scikit-learn.org/stable/modules/model_evaluation.html#log-loss). Nevertheless there is a sum over `y` (target) in that formula,\n",
    "remember that targets are one-hot encoded. This fact simplifies the computations a lot. Note, that criterions are the only places, where you divide by batch size. Also there is a small hack with adding small number to probabilities to avoid computing log(0).\n",
    "- input:   **`batch_size x n_feats`** - probabilities\n",
    "- target: **`batch_size x n_feats`** - one-hot representation of ground truth\n",
    "- output: **scalar**\n",
    "\n"
   ]
  },
  {
   "cell_type": "code",
   "execution_count": 23,
   "metadata": {
    "id": "die7KvW6j6ec"
   },
   "outputs": [],
   "source": [
    "class ClassNLLCriterionUnstable(Criterion):\n",
    "    \"\"\"NLL Loss (нестабильная, вход - вероятности).\"\"\"\n",
    "\n",
    "    EPS = 1e-15\n",
    "\n",
    "    def __init__(self):\n",
    "        super(ClassNLLCriterionUnstable, self).__init__()\n",
    "\n",
    "    def updateOutput(self, input, target):\n",
    "        if input.shape != target.shape:\n",
    "            raise ValueError(\"Input and target shapes must match\")\n",
    "        input_clamp = np.clip(input, self.EPS, 1.0 - self.EPS)\n",
    "        log_probs = np.log(input_clamp)\n",
    "        sum_log_probs_true_class = np.sum(target * log_probs)\n",
    "        batch_size = input.shape[0]\n",
    "        self.output = -sum_log_probs_true_class / batch_size\n",
    "        return self.output\n",
    "\n",
    "    def updateGradInput(self, input, target):\n",
    "        if input.shape != target.shape:\n",
    "            raise ValueError(\"Input and target shapes must match\")\n",
    "        input_clamp = np.clip(input, self.EPS, 1.0 - self.EPS)\n",
    "        batch_size = input.shape[0]\n",
    "        self.gradInput = -(target / input_clamp) / batch_size\n",
    "        return self.gradInput\n",
    "\n",
    "    def __repr__(self):\n",
    "        return \"ClassNLLCriterionUnstable()\"  # Добавим скобки"
   ]
  },
  {
   "cell_type": "markdown",
   "metadata": {
    "id": "uHr_JbU5j6ec"
   },
   "source": [
    "## 15. (0.3) Negative LogLikelihood criterion (numerically stable)\n",
    "- input:   **`batch_size x n_feats`** - log probabilities\n",
    "- target: **`batch_size x n_feats`** - one-hot representation of ground truth\n",
    "- output: **scalar**\n",
    "\n",
    "Task is similar to the previous one, but now the criterion input is the output of log-softmax layer. This decomposition allows us to avoid problems with computation of forward and backward of log()."
   ]
  },
  {
   "cell_type": "code",
   "execution_count": 24,
   "metadata": {
    "collapsed": true,
    "id": "v7N8bVP9j6ec",
    "jupyter": {
     "outputs_hidden": true
    }
   },
   "outputs": [],
   "source": [
    "class ClassNLLCriterion(Criterion):\n",
    "    \"\"\"NLL Loss (стабильная, вход - log-вероятности).\"\"\"\n",
    "\n",
    "    def __init__(self):\n",
    "        super(ClassNLLCriterion, self).__init__()\n",
    "\n",
    "    def updateOutput(self, input, target):\n",
    "        if input.shape != target.shape:\n",
    "            raise ValueError(\"Input and target shapes must match\")\n",
    "        # input уже содержит log_probs\n",
    "        log_probs_true_class = np.sum(\n",
    "            target * input, axis=1\n",
    "        )  # Сумма по классам -> (N,)\n",
    "        batch_size = input.shape[0]\n",
    "        self.output = -np.sum(log_probs_true_class) / batch_size\n",
    "        return self.output\n",
    "\n",
    "    def updateGradInput(self, input, target):\n",
    "        if input.shape != target.shape:\n",
    "            raise ValueError(\"Input and target shapes must match\")\n",
    "        batch_size = input.shape[0]\n",
    "        self.gradInput = -target / batch_size  # Градиент очень простой\n",
    "        return self.gradInput"
   ]
  },
  {
   "cell_type": "code",
   "execution_count": null,
   "metadata": {},
   "outputs": [],
   "source": []
  },
  {
   "cell_type": "markdown",
   "metadata": {
    "id": "TC2Bf1PP2Ios"
   },
   "source": [
    "1-я часть задания: реализация слоев, лосей и функций активации  \\\\\n",
    "2-я часть задания: реализация моделей на своих классах. Что должно быть:\n",
    "  1. Выберите оптимизатор и реализуйте его, чтоб он работал с вами классами.\n",
    "  2. Модель для задачи мультирегрессии на выбраных вами данных. Использовать FCNN, dropout, batchnorm, MSE. Пробуйте различные фукнции активации. Для первой модели попробуйте большую, среднюю и маленькую модель.\n",
    "  3. Модель для задачи мультиклассификации на MNIST. Использовать свёртки, макспулы, флэттэны, софтмаксы.\n",
    "  4. Автоэнкодер для выбранных вами данных. Должен быть на свёртках и полносвязных слоях, дропаутах, батчнормах и тд."
   ]
  },
  {
   "cell_type": "code",
   "execution_count": 25,
   "metadata": {
    "id": "Aq0X5QV55ZH4"
   },
   "outputs": [],
   "source": [
    "# --- Sigmoid (Исправленный) ---\n",
    "class Sigmoid(Module):\n",
    "    def __init__(self):\n",
    "        super(Sigmoid, self).__init__()\n",
    "        self.output = None  # Кэшируем выход для backward\n",
    "\n",
    "    def updateOutput(self, input):\n",
    "        input_dtype = input.dtype\n",
    "        input_f64 = input.astype(np.float64, copy=False)\n",
    "        # Кэшируем выход как float64 для backward\n",
    "        self.output = 1.0 / (1.0 + np.exp(-input_f64))\n",
    "        return self.output.astype(input_dtype)\n",
    "\n",
    "    def updateGradInput(self, input, gradOutput):\n",
    "        if self.output is None:\n",
    "            raise RuntimeError(\"Need forward pass before Sigmoid backward\")\n",
    "        # Теперь o64 гарантированно будет доступна, если нет ошибки выше\n",
    "        # Используем закэшированный self.output (уже float64)\n",
    "        o64 = self.output\n",
    "        gradOutput_f64 = gradOutput.astype(np.float64, copy=False)\n",
    "        # Вычисляем градиент\n",
    "        self.gradInput = gradOutput_f64 * o64 * (1.0 - o64)\n",
    "        return self.gradInput.astype(input.dtype)  # Возвращаем в исходном типе\n",
    "\n",
    "    def __repr__(self):\n",
    "        return \"Sigmoid()\"\n",
    "\n",
    "\n",
    "# --- Tanh (Исправленный) ---\n",
    "class Tanh(Module):\n",
    "    def __init__(self):\n",
    "        super(Tanh, self).__init__()\n",
    "        self.output = None  # Кэшируем выход\n",
    "\n",
    "    def updateOutput(self, input):\n",
    "        input_dtype = input.dtype\n",
    "        input_f64 = input.astype(np.float64, copy=False)\n",
    "        # Кэшируем выход как float64 для backward\n",
    "        self.output = np.tanh(input_f64)\n",
    "        return self.output.astype(input_dtype)\n",
    "\n",
    "    def updateGradInput(self, input, gradOutput):\n",
    "        if self.output is None:\n",
    "            raise RuntimeError(\"Need forward pass before Tanh backward\")\n",
    "        # Теперь o64 гарантированно будет доступна\n",
    "        # Используем закэшированный self.output (уже float64)\n",
    "        o64 = self.output\n",
    "        gradOutput_f64 = gradOutput.astype(np.float64, copy=False)\n",
    "        # Вычисляем градиент\n",
    "        self.gradInput = gradOutput_f64 * (1.0 - o64**2)\n",
    "        return self.gradInput.astype(input.dtype)  # Возвращаем в исходном типе\n",
    "\n",
    "    def __repr__(self):\n",
    "        return \"Tanh()\"\n",
    "\n",
    "\n",
    "class ClassNLLCriterion(Module):\n",
    "    \"\"\"Negative Log Likelihood loss for classification (expects LogSoftMax input)\"\"\"\n",
    "\n",
    "    def __init__(self):\n",
    "        super(ClassNLLCriterion, self).__init__()\n",
    "        self.log_probs = None\n",
    "        self.target_indices = None\n",
    "\n",
    "    def updateOutput(self, log_probabilities, target_indices):\n",
    "        batch_size = log_probabilities.shape[0]\n",
    "        self.log_probs = log_probabilities\n",
    "        self.target_indices = target_indices\n",
    "        correct_log_probs = log_probabilities[np.arange(batch_size), target_indices]\n",
    "        self.output = -np.mean(correct_log_probs)\n",
    "        return self.output  # Скаляр\n",
    "\n",
    "    def updateGradInput(self, log_probabilities, target_indices):\n",
    "        batch_size, n_classes = log_probabilities.shape\n",
    "        self.gradInput = np.zeros_like(log_probabilities)\n",
    "        self.gradInput[np.arange(batch_size), target_indices] = -1.0 / batch_size\n",
    "        return self.gradInput  # Форма входа\n",
    "\n",
    "    def __repr__(self):\n",
    "        return \"ClassNLLCriterion()\""
   ]
  },
  {
   "cell_type": "code",
   "execution_count": 26,
   "metadata": {},
   "outputs": [],
   "source": [
    "class SGD:\n",
    "    def __init__(self, model_parameters, learning_rate=1e-3, weight_decay=0):\n",
    "        # model_parameters - плоский список параметров из model.getParameters()\n",
    "        self.parameters = model_parameters\n",
    "        self.learning_rate = learning_rate\n",
    "        self.weight_decay = weight_decay  # L2 регуляризация\n",
    "\n",
    "    def step(self, model_grads):\n",
    "        # model_grads - плоский список градиентов из model.getGradParameters()\n",
    "        if len(self.parameters) != len(model_grads):\n",
    "            raise ValueError(\n",
    "                f\"Params ({len(self.parameters)}) and grads ({len(model_grads)}) count mismatch.\"\n",
    "            )\n",
    "\n",
    "        for i in range(len(self.parameters)):\n",
    "            param = self.parameters[i]\n",
    "            grad = model_grads[i]\n",
    "\n",
    "            if param is None or grad is None:\n",
    "                continue  # Пропуск, если нет параметра/градиента\n",
    "\n",
    "            # L2 регуляризация (weight decay) - добавляем к градиенту\n",
    "            if (\n",
    "                self.weight_decay > 0 and param.ndim > 1\n",
    "            ):  # Обычно не применяют к смещениям (bias)\n",
    "                grad = grad + self.weight_decay * param\n",
    "\n",
    "            # Шаг SGD\n",
    "            if param.dtype != grad.dtype:  # Согласование типов (на всякий случай)\n",
    "                param -= self.learning_rate * grad.astype(param.dtype)\n",
    "            else:\n",
    "                param -= self.learning_rate * grad\n",
    "\n",
    "    def zero_grad(self, model):  # Удобный метод для вызова из цикла\n",
    "        model.zeroGradParameters()\n",
    "\n",
    "\n",
    "# --------------------------------------------------\n",
    "# 2.1 (Дополнительно) Оптимизатор Adam (Пример)\n",
    "# --------------------------------------------------\n",
    "class Adam:\n",
    "    def __init__(\n",
    "        self,\n",
    "        model_parameters,\n",
    "        learning_rate=1e-3,\n",
    "        beta1=0.9,\n",
    "        beta2=0.999,\n",
    "        epsilon=1e-8,\n",
    "        weight_decay=0,\n",
    "    ):\n",
    "        self.parameters = model_parameters\n",
    "        self.learning_rate = learning_rate\n",
    "        self.beta1 = beta1\n",
    "        self.beta2 = beta2\n",
    "        self.epsilon = epsilon\n",
    "        self.weight_decay = weight_decay\n",
    "        self.m = [\n",
    "            np.zeros_like(p, dtype=np.float64) if p is not None else None\n",
    "            for p in model_parameters\n",
    "        ]  # 1st moment vector\n",
    "        self.v = [\n",
    "            np.zeros_like(p, dtype=np.float64) if p is not None else None\n",
    "            for p in model_parameters\n",
    "        ]  # 2nd moment vector\n",
    "        self.t = 0  # Timestep\n",
    "\n",
    "    def step(self, model_grads):\n",
    "        if len(self.parameters) != len(model_grads):\n",
    "            raise ValueError(\n",
    "                f\"Params ({len(self.parameters)}) and grads ({len(model_grads)}) count mismatch.\"\n",
    "            )\n",
    "        self.t += 1\n",
    "\n",
    "        for i in range(len(self.parameters)):\n",
    "            param = self.parameters[i]\n",
    "            grad = model_grads[i]\n",
    "\n",
    "            if param is None or grad is None:\n",
    "                continue\n",
    "\n",
    "            grad = grad.astype(np.float64, copy=False)  # Работаем с float64\n",
    "\n",
    "            # L2 регуляризация\n",
    "            if self.weight_decay > 0 and param.ndim > 1:\n",
    "                grad = grad + self.weight_decay * param\n",
    "\n",
    "            # Обновление моментов\n",
    "            self.m[i] = self.beta1 * self.m[i] + (1 - self.beta1) * grad\n",
    "            self.v[i] = self.beta2 * self.v[i] + (1 - self.beta2) * (grad**2)\n",
    "\n",
    "            # Коррекция смещения моментов\n",
    "            m_hat = self.m[i] / (1 - self.beta1**self.t)\n",
    "            v_hat = self.v[i] / (1 - self.beta2**self.t)\n",
    "\n",
    "            # Обновление параметра\n",
    "            update = self.learning_rate * m_hat / (np.sqrt(v_hat) + self.epsilon)\n",
    "\n",
    "            if param.dtype != update.dtype:\n",
    "                param -= update.astype(param.dtype)\n",
    "            else:\n",
    "                param -= update\n",
    "\n",
    "    def zero_grad(self, model):\n",
    "        model.zeroGradParameters()"
   ]
  },
  {
   "cell_type": "code",
   "execution_count": 27,
   "metadata": {},
   "outputs": [],
   "source": [
    "# --- LR Scheduler (Пример: StepLR) ---\n",
    "class StepLR:\n",
    "    def __init__(self, optimizer, step_size, gamma=0.1):\n",
    "        self.optimizer = optimizer\n",
    "        self.step_size = step_size\n",
    "        self.gamma = gamma\n",
    "        self.last_epoch = 0\n",
    "\n",
    "    def step(self):\n",
    "        self.last_epoch += 1\n",
    "        if self.last_epoch % self.step_size == 0:\n",
    "            self.optimizer.learning_rate *= self.gamma\n",
    "            print(f\"  LR Scheduler: New LR = {self.optimizer.learning_rate:.6f}\")\n",
    "\n",
    "\n",
    "# --- Warmup ---\n",
    "class WarmupLR:\n",
    "    def __init__(\n",
    "        self,\n",
    "        optimizer,\n",
    "        warmup_epochs,\n",
    "        initial_lr,\n",
    "        target_lr,\n",
    "        scheduler_after_warmup=None,\n",
    "    ):\n",
    "        self.optimizer = optimizer\n",
    "        self.warmup_epochs = warmup_epochs\n",
    "        self.initial_lr = initial_lr\n",
    "        self.target_lr = target_lr\n",
    "        self.scheduler_after_warmup = scheduler_after_warmup\n",
    "        self.current_epoch = 0\n",
    "        self.original_lr = optimizer.learning_rate  # Сохраняем исходный LR оптимизатора\n",
    "\n",
    "        # Устанавливаем начальный LR для warmup\n",
    "        self.optimizer.learning_rate = initial_lr\n",
    "\n",
    "    def step(self):\n",
    "        self.current_epoch += 1\n",
    "        if self.current_epoch <= self.warmup_epochs:\n",
    "            # Линейный warmup\n",
    "            lr = self.initial_lr + (self.target_lr - self.initial_lr) * (\n",
    "                self.current_epoch / self.warmup_epochs\n",
    "            )\n",
    "            self.optimizer.learning_rate = lr\n",
    "            # print(f\"  Warmup: Epoch {self.current_epoch}/{self.warmup_epochs}, LR = {lr:.6f}\")\n",
    "            # Восстанавливаем исходный LR в оптимизаторе после warmup, чтобы основной scheduler работал с ним\n",
    "            if self.current_epoch == self.warmup_epochs:\n",
    "                self.optimizer.learning_rate = (\n",
    "                    self.original_lr\n",
    "                )  # Важно для StepLR и др.\n",
    "        elif self.scheduler_after_warmup:\n",
    "            # После warmup передаем управление основному scheduler'у\n",
    "            # Уменьшаем его счетчик, т.к. он пропустил warmup эпохи\n",
    "            self.scheduler_after_warmup.last_epoch = (\n",
    "                self.current_epoch - self.warmup_epochs\n",
    "            )\n",
    "            self.scheduler_after_warmup.step()\n",
    "\n",
    "\n",
    "# --- Early Stopping ---\n",
    "class EarlyStopping:\n",
    "    def __init__(\n",
    "        self,\n",
    "        patience=5,\n",
    "        verbose=False,\n",
    "        delta=0,\n",
    "        path=\"checkpoint.pkl\",\n",
    "        trace_func=print,\n",
    "    ):\n",
    "        self.patience = patience\n",
    "        self.verbose = verbose\n",
    "        self.counter = 0\n",
    "        self.best_score = None\n",
    "        self.early_stop = False\n",
    "        self.val_loss_min = np.Inf\n",
    "        self.delta = delta  # Минимальное изменение, считающееся улучшением\n",
    "        self.path = path\n",
    "        self.trace_func = trace_func\n",
    "\n",
    "    def __call__(self, val_loss, model):\n",
    "        score = (\n",
    "            -val_loss\n",
    "        )  # Мы минимизируем loss, поэтому лучший score - максимальный (-loss)\n",
    "        if self.best_score is None:\n",
    "            self.best_score = score\n",
    "            self.save_checkpoint(val_loss, model)\n",
    "        elif score < self.best_score + self.delta:\n",
    "            self.counter += 1\n",
    "            if self.verbose:\n",
    "                self.trace_func(\n",
    "                    f\"  EarlyStopping counter: {self.counter} out of {self.patience}\"\n",
    "                )\n",
    "            if self.counter >= self.patience:\n",
    "                self.early_stop = True\n",
    "        else:\n",
    "            self.best_score = score\n",
    "            self.save_checkpoint(val_loss, model)\n",
    "            self.counter = 0\n",
    "\n",
    "    def save_checkpoint(self, val_loss, model):\n",
    "        \"\"\"Сохраняет модель, когда validation loss уменьшается.\"\"\"\n",
    "        if self.verbose:\n",
    "            self.trace_func(\n",
    "                f\"  Validation loss decreased ({self.val_loss_min:.6f} --> {val_loss:.6f}). Saving model ...\"\n",
    "            )\n",
    "        # Сохраняем параметры модели\n",
    "        parameters = model.getParameters()\n",
    "        try:\n",
    "            with open(self.path, \"wb\") as f:\n",
    "                pickle.dump(parameters, f)\n",
    "            self.val_loss_min = val_loss\n",
    "        except Exception as e:\n",
    "            self.trace_func(f\"   Error saving model: {e}\")\n",
    "\n",
    "    def load_best_model(self, model):\n",
    "        \"\"\"Загружает лучшую сохраненную модель.\"\"\"\n",
    "        if os.path.exists(self.path):\n",
    "            print(\n",
    "                f\"Loading best model from {self.path} with val_loss: {self.val_loss_min:.6f}\"\n",
    "            )\n",
    "            try:\n",
    "                with open(self.path, \"rb\") as f:\n",
    "                    best_params = pickle.load(f)\n",
    "                current_params = model.getParameters()\n",
    "                if len(best_params) == len(current_params):\n",
    "                    for i in range(len(best_params)):\n",
    "                        if current_params[i] is not None and best_params[i] is not None:\n",
    "                            # Проверяем совпадение формы перед копированием\n",
    "                            if current_params[i].shape == best_params[i].shape:\n",
    "                                np.copyto(current_params[i], best_params[i])\n",
    "                            else:\n",
    "                                print(\n",
    "                                    f\"  Warning: Shape mismatch for param {i}. Expected {current_params[i].shape}, got {best_params[i].shape}. Skipping.\"\n",
    "                                )\n",
    "                        elif (\n",
    "                            current_params[i] is not None or best_params[i] is not None\n",
    "                        ):\n",
    "                            # Ситуация, когда параметр есть/нет (например, bias изменился)\n",
    "                            print(\n",
    "                                f\"  Warning: Parameter presence mismatch for param {i}. Skipping.\"\n",
    "                            )\n",
    "                else:\n",
    "                    print(\n",
    "                        \"  Warning: Number of parameters in saved model differs from current model. Cannot load.\"\n",
    "                    )\n",
    "                return True\n",
    "            except Exception as e:\n",
    "                print(f\"   Error loading model: {e}\")\n",
    "                return False\n",
    "        else:\n",
    "            print(f\"   Best model checkpoint not found at {self.path}\")\n",
    "            return False"
   ]
  },
  {
   "cell_type": "code",
   "execution_count": 28,
   "metadata": {},
   "outputs": [],
   "source": [
    "import matplotlib.pyplot as plt\n",
    "\n",
    "\n",
    "def calculate_accuracy(\n",
    "    y_true_indices, y_pred_indices\n",
    "):  # <-- Меняем порядок и имена аргументов\n",
    "    \"\"\"Считает accuracy для мультиклассовой классификации.\n",
    "    y_pred_indices - массив предсказанных индексов классов.\n",
    "    y_true_indices - массив истинных индексов классов.\n",
    "    \"\"\"\n",
    "    # Убираем argmax отсюда, он будет делаться перед вызовом\n",
    "    # predicted_indices = np.argmax(y_pred_log_probs, axis=-1)\n",
    "    return accuracy_score(y_true_indices, y_pred_indices)  # Порядок правильный\n",
    "\n",
    "\n",
    "def calculate_r2(y_pred, y_true):\n",
    "    \"\"\"Считает R^2 score для регрессии.\"\"\"\n",
    "    return r2_score(y_true, y_pred)\n",
    "\n",
    "\n",
    "# --- Функция батчинга ---\n",
    "def get_batches(X, y, batch_size):\n",
    "    n_samples = X.shape[0]\n",
    "    indices = np.arange(n_samples)\n",
    "    np.random.shuffle(indices)\n",
    "    for start_idx in range(0, n_samples, batch_size):\n",
    "        end_idx = min(start_idx + batch_size, n_samples)\n",
    "        batch_indices = indices[start_idx:end_idx]\n",
    "        yield X[batch_indices], y[batch_indices]\n",
    "\n",
    "\n",
    "# --- Функция отрисовки графиков ---\n",
    "def plot_history(\n",
    "    train_loss, val_loss, train_metric=None, val_metric=None, metric_name=\"Metric\"\n",
    "):\n",
    "    epochs = range(1, len(train_loss) + 1)\n",
    "    plt.figure(figsize=(12, 5))\n",
    "\n",
    "    plt.subplot(1, 2, 1)\n",
    "    plt.plot(epochs, train_loss, \"bo-\", label=\"Training loss\")\n",
    "    plt.plot(epochs, val_loss, \"ro-\", label=\"Validation loss\")\n",
    "    plt.title(\"Training and Validation Loss\")\n",
    "    plt.xlabel(\"Epochs\")\n",
    "    plt.ylabel(\"Loss\")\n",
    "    plt.legend()\n",
    "    plt.grid(True)\n",
    "\n",
    "    if train_metric is not None and val_metric is not None:\n",
    "        plt.subplot(1, 2, 2)\n",
    "        plt.plot(epochs, train_metric, \"bo-\", label=f\"Training {metric_name}\")\n",
    "        plt.plot(epochs, val_metric, \"ro-\", label=f\"Validation {metric_name}\")\n",
    "        plt.title(f\"Training and Validation {metric_name}\")\n",
    "        plt.xlabel(\"Epochs\")\n",
    "        plt.ylabel(metric_name)\n",
    "        plt.legend()\n",
    "        plt.grid(True)\n",
    "\n",
    "    plt.tight_layout()\n",
    "    plt.show()"
   ]
  },
  {
   "cell_type": "code",
   "execution_count": 29,
   "metadata": {},
   "outputs": [],
   "source": [
    "def train_validate_model(\n",
    "    model,\n",
    "    criterion,\n",
    "    optimizer,\n",
    "    scheduler,\n",
    "    warmup_scheduler,\n",
    "    early_stopping,\n",
    "    X_train,\n",
    "    y_train,\n",
    "    X_val,\n",
    "    y_val,\n",
    "    epochs,\n",
    "    batch_size,\n",
    "    metric_func=None,\n",
    "    metric_name=\"Metric\",\n",
    "    task_type=\"classification\",\n",
    "):\n",
    "    \"\"\"\n",
    "    Обучает и валидирует модель. (Исправлен вызов метрик)\n",
    "\n",
    "    Args:\n",
    "        model (Module): Модель для обучения.\n",
    "        criterion (Criterion): Функция потерь.\n",
    "        optimizer (SGD or Adam): Оптимизатор.\n",
    "        scheduler (StepLR or similar or None): Основной LR шедулер.\n",
    "        warmup_scheduler (WarmupLR or None): Warmup шедулер.\n",
    "        early_stopping (EarlyStopping): Механизм ранней остановки.\n",
    "        X_train, y_train: Обучающие данные и метки.\n",
    "        X_val, y_val: Валидационные данные и метки.\n",
    "        epochs (int): Количество эпох.\n",
    "        batch_size (int): Размер батча.\n",
    "        metric_func (callable, optional): Функция для расчета метрики (принимает y_true, y_pred).\n",
    "        metric_name (str, optional): Название метрики для графиков.\n",
    "        task_type (str): 'classification' или 'regression'. Влияет на обработку выхода модели для метрик.\n",
    "\n",
    "    Returns:\n",
    "        tuple: История потерь (train, val), История метрик (train, val).\n",
    "    \"\"\"\n",
    "    train_loss_history = []\n",
    "    val_loss_history = []\n",
    "    train_metric_history = []\n",
    "    val_metric_history = []\n",
    "\n",
    "    print(\"-\" * 60)\n",
    "    print(f\"Starting Training for {epochs} epochs...\")\n",
    "    print(\"-\" * 60)\n",
    "\n",
    "    for epoch in range(epochs):\n",
    "        # --- Training Phase ---\n",
    "        model.train()\n",
    "        running_loss = 0.0\n",
    "        metric_total = 0.0\n",
    "        processed_samples = 0\n",
    "\n",
    "        train_batches = tqdm(\n",
    "            get_batches(X_train, y_train, batch_size),\n",
    "            total=math.ceil(X_train.shape[0] / batch_size),\n",
    "            desc=f\"Epoch {epoch+1}/{epochs} [Train]\",\n",
    "        )\n",
    "\n",
    "        for X_batch, y_batch in train_batches:\n",
    "            optimizer.zero_grad(model)\n",
    "            y_pred = model.forward(X_batch)\n",
    "            loss = criterion.forward(y_pred, y_batch)  # Вызываем forward у Criterion\n",
    "            running_loss += loss * X_batch.shape[0]\n",
    "            grad_output_loss = criterion.backward(\n",
    "                y_pred, y_batch\n",
    "            )  # Вызываем backward у Criterion\n",
    "            model.backward(X_batch, grad_output_loss)\n",
    "            optimizer.step(model.getGradParameters())\n",
    "\n",
    "            # Calculate metric for batch\n",
    "            if metric_func:\n",
    "                with np.errstate(\n",
    "                    divide=\"ignore\", invalid=\"ignore\"\n",
    "                ):  # Игнорируем ошибки деления на 0 или NaN при argmax\n",
    "                    # --- ИСПРАВЛЕНИЕ: Правильный порядок аргументов для metric_func ---\n",
    "                    y_pred_processed = (\n",
    "                        np.argmax(y_pred, axis=-1)\n",
    "                        if task_type == \"classification\"\n",
    "                        else y_pred\n",
    "                    )\n",
    "                    metric_val = metric_func(\n",
    "                        y_batch, y_pred_processed\n",
    "                    )  # ПОРЯДОК: y_true, y_pred\n",
    "                    # -----------------------------------------------------------------\n",
    "                    if np.isnan(metric_val):\n",
    "                        metric_val = 0  # Обработка NaN, если возник\n",
    "                metric_total += metric_val * X_batch.shape[0]\n",
    "            processed_samples += X_batch.shape[0]\n",
    "\n",
    "            train_batches.set_postfix(loss=f\"{running_loss/processed_samples:.4f}\")\n",
    "\n",
    "        epoch_train_loss = running_loss / processed_samples\n",
    "        train_loss_history.append(epoch_train_loss)\n",
    "        epoch_train_metric = (\n",
    "            metric_total / processed_samples\n",
    "            if metric_func and processed_samples > 0\n",
    "            else 0.0\n",
    "        )\n",
    "        if metric_func:\n",
    "            train_metric_history.append(epoch_train_metric)\n",
    "\n",
    "        # --- Validation Phase ---\n",
    "        model.evaluate()\n",
    "        running_loss = 0.0\n",
    "        metric_total = 0.0\n",
    "        processed_samples = 0\n",
    "\n",
    "        val_batches = tqdm(\n",
    "            get_batches(X_val, y_val, batch_size),\n",
    "            total=math.ceil(X_val.shape[0] / batch_size),\n",
    "            desc=f\"Epoch {epoch+1}/{epochs} [Val]  \",\n",
    "        )\n",
    "\n",
    "        for X_batch, y_batch in val_batches:\n",
    "            y_pred = model.forward(X_batch)\n",
    "            loss = criterion.forward(y_pred, y_batch)\n",
    "            running_loss += loss * X_batch.shape[0]\n",
    "\n",
    "            # Calculate metric\n",
    "            if metric_func:\n",
    "                with np.errstate(divide=\"ignore\", invalid=\"ignore\"):\n",
    "                    # --- ИСПРАВЛЕНИЕ: Правильный порядок аргументов для metric_func ---\n",
    "                    y_pred_processed = (\n",
    "                        np.argmax(y_pred, axis=-1)\n",
    "                        if task_type == \"classification\"\n",
    "                        else y_pred\n",
    "                    )\n",
    "                    metric_val = metric_func(\n",
    "                        y_batch, y_pred_processed\n",
    "                    )  # ПОРЯДОК: y_true, y_pred\n",
    "                    # -----------------------------------------------------------------\n",
    "                    if np.isnan(metric_val):\n",
    "                        metric_val = 0\n",
    "                metric_total += metric_val * X_batch.shape[0]\n",
    "            processed_samples += X_batch.shape[0]\n",
    "\n",
    "            val_batches.set_postfix(loss=f\"{running_loss/processed_samples:.4f}\")\n",
    "\n",
    "        epoch_val_loss = running_loss / processed_samples\n",
    "        val_loss_history.append(epoch_val_loss)\n",
    "        epoch_val_metric = (\n",
    "            metric_total / processed_samples\n",
    "            if metric_func and processed_samples > 0\n",
    "            else 0.0\n",
    "        )\n",
    "        if metric_func:\n",
    "            val_metric_history.append(epoch_val_metric)\n",
    "\n",
    "        # --- Scheduler and Early Stopping ---\n",
    "        lr_before = optimizer.learning_rate\n",
    "        if warmup_scheduler:\n",
    "            warmup_scheduler.step()\n",
    "        elif scheduler:\n",
    "            scheduler.step()\n",
    "        lr_after = optimizer.learning_rate\n",
    "\n",
    "        print(\n",
    "            f\"E {epoch+1}/{epochs} Summary: Train Loss: {epoch_train_loss:.4f}, Val Loss: {epoch_val_loss:.4f}\",\n",
    "            end=\"\",\n",
    "        )\n",
    "        if metric_func:\n",
    "            print(\n",
    "                f\", Train {metric_name}: {epoch_train_metric:.4f}, Val {metric_name}: {epoch_val_metric:.4f}\",\n",
    "                end=\"\",\n",
    "            )\n",
    "        if lr_before != lr_after:\n",
    "            print(f\", LR -> {lr_after:.6f}\")\n",
    "        else:\n",
    "            print()\n",
    "\n",
    "        early_stopping(epoch_val_loss, model)\n",
    "        if early_stopping.early_stop:\n",
    "            print(\"Early stopping triggered.\")\n",
    "            break\n",
    "\n",
    "    print(\"-\" * 60)\n",
    "    print(\"Training finished.\")\n",
    "    print(\"-\" * 60)\n",
    "    # Загружаем лучшую модель перед возвратом\n",
    "    early_stopping.load_best_model(model)\n",
    "\n",
    "    # Убедимся, что возвращаем пустые списки, если метрика не использовалась\n",
    "    return (\n",
    "        train_loss_history,\n",
    "        val_loss_history,\n",
    "        train_metric_history if metric_func else [],\n",
    "        val_metric_history if metric_func else [],\n",
    "    )\n",
    "\n",
    "\n",
    "# --- Функция для тестирования модели ---\n",
    "def test_model(\n",
    "    model,\n",
    "    criterion,\n",
    "    X_test,\n",
    "    y_test,\n",
    "    batch_size,\n",
    "    metric_func=None,\n",
    "    metric_name=\"Metric\",\n",
    "    task_type=\"classification\",\n",
    "):\n",
    "    \"\"\"Оценивает модель на тестовых данных. (Исправлен вызов метрик)\"\"\"\n",
    "    model.evaluate()\n",
    "    running_loss = 0.0\n",
    "    metric_total = 0.0\n",
    "    processed_samples = 0\n",
    "\n",
    "    print(\"-\" * 60)\n",
    "    print(\"Starting Testing...\")\n",
    "    print(\"-\" * 60)\n",
    "\n",
    "    test_batches = tqdm(\n",
    "        get_batches(X_test, y_test, batch_size),\n",
    "        total=math.ceil(X_test.shape[0] / batch_size),\n",
    "        desc=\"[Test] \",\n",
    "    )\n",
    "\n",
    "    for X_batch, y_batch in test_batches:\n",
    "        y_pred = model.forward(X_batch)\n",
    "        loss = criterion.forward(y_pred, y_batch)\n",
    "        running_loss += loss * X_batch.shape[0]\n",
    "\n",
    "        if metric_func:\n",
    "            with np.errstate(divide=\"ignore\", invalid=\"ignore\"):\n",
    "                # --- ИСПРАВЛЕНИЕ: Правильный порядок аргументов для metric_func ---\n",
    "                y_pred_processed = (\n",
    "                    np.argmax(y_pred, axis=-1)\n",
    "                    if task_type == \"classification\"\n",
    "                    else y_pred\n",
    "                )\n",
    "                metric_val = metric_func(\n",
    "                    y_batch, y_pred_processed\n",
    "                )  # ПОРЯДОК: y_true, y_pred\n",
    "                # -----------------------------------------------------------------\n",
    "                if np.isnan(metric_val):\n",
    "                    metric_val = 0\n",
    "            metric_total += metric_val * X_batch.shape[0]\n",
    "        processed_samples += X_batch.shape[0]\n",
    "\n",
    "        test_batches.set_postfix(loss=f\"{running_loss/processed_samples:.4f}\")\n",
    "\n",
    "    final_loss = running_loss / processed_samples\n",
    "    final_metric = (\n",
    "        metric_total / processed_samples\n",
    "        if metric_func and processed_samples > 0\n",
    "        else 0.0\n",
    "    )\n",
    "\n",
    "    print(\"-\" * 60)\n",
    "    print(f\"Test Results:\")\n",
    "    print(f\"  Test Loss: {final_loss:.4f}\")\n",
    "    if metric_func:\n",
    "        print(f\"  Test {metric_name}: {final_metric:.4f}\")\n",
    "    print(\"-\" * 60)\n",
    "    return final_loss, final_metric"
   ]
  },
  {
   "cell_type": "code",
   "execution_count": 30,
   "metadata": {},
   "outputs": [
    {
     "name": "stdout",
     "output_type": "stream",
     "text": [
      "\n",
      "===== Task 1: Multiregression =====\n",
      "Generating regression data...\n",
      "Regression data shapes: Train=(34000, 10), Val=(6000, 10), Test=(10000, 10)\n",
      "\n",
      "Training Medium Regression Model...\n",
      "------------------------------------------------------------\n",
      "Starting Training for 30 epochs...\n",
      "------------------------------------------------------------\n"
     ]
    },
    {
     "data": {
      "application/vnd.jupyter.widget-view+json": {
       "model_id": "36c2f02067cd424fa81162f973e7cfc6",
       "version_major": 2,
       "version_minor": 0
      },
      "text/plain": [
       "Epoch 1/30 [Train]:   0%|          | 0/532 [00:00<?, ?it/s]"
      ]
     },
     "metadata": {},
     "output_type": "display_data"
    },
    {
     "data": {
      "application/vnd.jupyter.widget-view+json": {
       "model_id": "08cc9097b2f441949f4715228b6c0c82",
       "version_major": 2,
       "version_minor": 0
      },
      "text/plain": [
       "Epoch 1/30 [Val]  :   0%|          | 0/94 [00:00<?, ?it/s]"
      ]
     },
     "metadata": {},
     "output_type": "display_data"
    },
    {
     "name": "stdout",
     "output_type": "stream",
     "text": [
      "E 1/30 Summary: Train Loss: 3925.9717, Val Loss: 3956.9170, Train R2 Score: -9743.6408, Val R2 Score: -18798.6946, LR -> 0.000340\n",
      "  Validation loss decreased (inf --> 3956.916999). Saving model ...\n"
     ]
    },
    {
     "data": {
      "application/vnd.jupyter.widget-view+json": {
       "model_id": "681ceb37f8074f6fa8838b300cad392a",
       "version_major": 2,
       "version_minor": 0
      },
      "text/plain": [
       "Epoch 2/30 [Train]:   0%|          | 0/532 [00:00<?, ?it/s]"
      ]
     },
     "metadata": {},
     "output_type": "display_data"
    },
    {
     "data": {
      "application/vnd.jupyter.widget-view+json": {
       "model_id": "1ac345249ec04c9d841725921056a83a",
       "version_major": 2,
       "version_minor": 0
      },
      "text/plain": [
       "Epoch 2/30 [Val]  :   0%|          | 0/94 [00:00<?, ?it/s]"
      ]
     },
     "metadata": {},
     "output_type": "display_data"
    },
    {
     "name": "stdout",
     "output_type": "stream",
     "text": [
      "E 2/30 Summary: Train Loss: 3072.2818, Val Loss: 2235.1780, Train R2 Score: -1016.6065, Val R2 Score: -11.0296, LR -> 0.000670\n",
      "  Validation loss decreased (3956.916999 --> 2235.177983). Saving model ...\n"
     ]
    },
    {
     "data": {
      "application/vnd.jupyter.widget-view+json": {
       "model_id": "033482959aff431a916d32221d0e52bc",
       "version_major": 2,
       "version_minor": 0
      },
      "text/plain": [
       "Epoch 3/30 [Train]:   0%|          | 0/532 [00:00<?, ?it/s]"
      ]
     },
     "metadata": {},
     "output_type": "display_data"
    },
    {
     "data": {
      "application/vnd.jupyter.widget-view+json": {
       "model_id": "3aaeb9d18188486fbda06a4d68f0d3ad",
       "version_major": 2,
       "version_minor": 0
      },
      "text/plain": [
       "Epoch 3/30 [Val]  :   0%|          | 0/94 [00:00<?, ?it/s]"
      ]
     },
     "metadata": {},
     "output_type": "display_data"
    },
    {
     "name": "stdout",
     "output_type": "stream",
     "text": [
      "E 3/30 Summary: Train Loss: 961.6146, Val Loss: 194.4125, Train R2 Score: -1.5576, Val R2 Score: 0.7596, LR -> 0.001000\n",
      "  Validation loss decreased (2235.177983 --> 194.412470). Saving model ...\n"
     ]
    },
    {
     "data": {
      "application/vnd.jupyter.widget-view+json": {
       "model_id": "306ddf993206478daced0184b116272a",
       "version_major": 2,
       "version_minor": 0
      },
      "text/plain": [
       "Epoch 4/30 [Train]:   0%|          | 0/532 [00:00<?, ?it/s]"
      ]
     },
     "metadata": {},
     "output_type": "display_data"
    },
    {
     "data": {
      "application/vnd.jupyter.widget-view+json": {
       "model_id": "0e9648029d624bbc90560bf63c7cf383",
       "version_major": 2,
       "version_minor": 0
      },
      "text/plain": [
       "Epoch 4/30 [Val]  :   0%|          | 0/94 [00:00<?, ?it/s]"
      ]
     },
     "metadata": {},
     "output_type": "display_data"
    },
    {
     "name": "stdout",
     "output_type": "stream",
     "text": [
      "E 4/30 Summary: Train Loss: 156.3633, Val Loss: 42.1353, Train R2 Score: 0.8481, Val R2 Score: 0.9613\n",
      "  Validation loss decreased (194.412470 --> 42.135283). Saving model ...\n"
     ]
    },
    {
     "data": {
      "application/vnd.jupyter.widget-view+json": {
       "model_id": "2dabd4c9d54f46d38f36c3ba3ec0a275",
       "version_major": 2,
       "version_minor": 0
      },
      "text/plain": [
       "Epoch 5/30 [Train]:   0%|          | 0/532 [00:00<?, ?it/s]"
      ]
     },
     "metadata": {},
     "output_type": "display_data"
    },
    {
     "data": {
      "application/vnd.jupyter.widget-view+json": {
       "model_id": "2a7f8766a6064bf4bbc87d95f626e9fa",
       "version_major": 2,
       "version_minor": 0
      },
      "text/plain": [
       "Epoch 5/30 [Val]  :   0%|          | 0/94 [00:00<?, ?it/s]"
      ]
     },
     "metadata": {},
     "output_type": "display_data"
    },
    {
     "name": "stdout",
     "output_type": "stream",
     "text": [
      "E 5/30 Summary: Train Loss: 118.1329, Val Loss: 28.8992, Train R2 Score: 0.8985, Val R2 Score: 0.9734\n",
      "  Validation loss decreased (42.135283 --> 28.899156). Saving model ...\n"
     ]
    },
    {
     "data": {
      "application/vnd.jupyter.widget-view+json": {
       "model_id": "4cb89a4891d94184b0b2c7bd6c2fb824",
       "version_major": 2,
       "version_minor": 0
      },
      "text/plain": [
       "Epoch 6/30 [Train]:   0%|          | 0/532 [00:00<?, ?it/s]"
      ]
     },
     "metadata": {},
     "output_type": "display_data"
    },
    {
     "data": {
      "application/vnd.jupyter.widget-view+json": {
       "model_id": "dc3e492f5b6147f7b65aebb73e165378",
       "version_major": 2,
       "version_minor": 0
      },
      "text/plain": [
       "Epoch 6/30 [Val]  :   0%|          | 0/94 [00:00<?, ?it/s]"
      ]
     },
     "metadata": {},
     "output_type": "display_data"
    },
    {
     "name": "stdout",
     "output_type": "stream",
     "text": [
      "E 6/30 Summary: Train Loss: 107.1992, Val Loss: 20.5162, Train R2 Score: 0.9094, Val R2 Score: 0.9809\n",
      "  Validation loss decreased (28.899156 --> 20.516199). Saving model ...\n"
     ]
    },
    {
     "data": {
      "application/vnd.jupyter.widget-view+json": {
       "model_id": "b1724485e4bc44e9a6a841a5e6c76b91",
       "version_major": 2,
       "version_minor": 0
      },
      "text/plain": [
       "Epoch 7/30 [Train]:   0%|          | 0/532 [00:00<?, ?it/s]"
      ]
     },
     "metadata": {},
     "output_type": "display_data"
    },
    {
     "data": {
      "application/vnd.jupyter.widget-view+json": {
       "model_id": "de898127fcfe4e82a40f6a0466ebd3b6",
       "version_major": 2,
       "version_minor": 0
      },
      "text/plain": [
       "Epoch 7/30 [Val]  :   0%|          | 0/94 [00:00<?, ?it/s]"
      ]
     },
     "metadata": {},
     "output_type": "display_data"
    },
    {
     "name": "stdout",
     "output_type": "stream",
     "text": [
      "E 7/30 Summary: Train Loss: 104.3273, Val Loss: 23.0091, Train R2 Score: 0.9129, Val R2 Score: 0.9795\n",
      "  EarlyStopping counter: 1 out of 7\n"
     ]
    },
    {
     "data": {
      "application/vnd.jupyter.widget-view+json": {
       "model_id": "8d24e59289ba492683522c5a35f112eb",
       "version_major": 2,
       "version_minor": 0
      },
      "text/plain": [
       "Epoch 8/30 [Train]:   0%|          | 0/532 [00:00<?, ?it/s]"
      ]
     },
     "metadata": {},
     "output_type": "display_data"
    },
    {
     "data": {
      "application/vnd.jupyter.widget-view+json": {
       "model_id": "d4a321d7e2ed40c2b14f6f0d57771887",
       "version_major": 2,
       "version_minor": 0
      },
      "text/plain": [
       "Epoch 8/30 [Val]  :   0%|          | 0/94 [00:00<?, ?it/s]"
      ]
     },
     "metadata": {},
     "output_type": "display_data"
    },
    {
     "name": "stdout",
     "output_type": "stream",
     "text": [
      "E 8/30 Summary: Train Loss: 100.6574, Val Loss: 14.7589, Train R2 Score: 0.9161, Val R2 Score: 0.9872\n",
      "  Validation loss decreased (20.516199 --> 14.758895). Saving model ...\n"
     ]
    },
    {
     "data": {
      "application/vnd.jupyter.widget-view+json": {
       "model_id": "aa78f60c66ba4e19b8c7c06cae8f53c5",
       "version_major": 2,
       "version_minor": 0
      },
      "text/plain": [
       "Epoch 9/30 [Train]:   0%|          | 0/532 [00:00<?, ?it/s]"
      ]
     },
     "metadata": {},
     "output_type": "display_data"
    },
    {
     "data": {
      "application/vnd.jupyter.widget-view+json": {
       "model_id": "b021c46dbb854dbca53a17501369e2b2",
       "version_major": 2,
       "version_minor": 0
      },
      "text/plain": [
       "Epoch 9/30 [Val]  :   0%|          | 0/94 [00:00<?, ?it/s]"
      ]
     },
     "metadata": {},
     "output_type": "display_data"
    },
    {
     "name": "stdout",
     "output_type": "stream",
     "text": [
      "E 9/30 Summary: Train Loss: 98.5532, Val Loss: 25.7647, Train R2 Score: 0.9185, Val R2 Score: 0.9769\n",
      "  EarlyStopping counter: 1 out of 7\n"
     ]
    },
    {
     "data": {
      "application/vnd.jupyter.widget-view+json": {
       "model_id": "699e4d6d50da46fa9539006bf41d773d",
       "version_major": 2,
       "version_minor": 0
      },
      "text/plain": [
       "Epoch 10/30 [Train]:   0%|          | 0/532 [00:00<?, ?it/s]"
      ]
     },
     "metadata": {},
     "output_type": "display_data"
    },
    {
     "data": {
      "application/vnd.jupyter.widget-view+json": {
       "model_id": "5fbcd00edd9c4f40b3a741ed338d17ce",
       "version_major": 2,
       "version_minor": 0
      },
      "text/plain": [
       "Epoch 10/30 [Val]  :   0%|          | 0/94 [00:00<?, ?it/s]"
      ]
     },
     "metadata": {},
     "output_type": "display_data"
    },
    {
     "name": "stdout",
     "output_type": "stream",
     "text": [
      "E 10/30 Summary: Train Loss: 96.4539, Val Loss: 15.5176, Train R2 Score: 0.9203, Val R2 Score: 0.9863\n",
      "  EarlyStopping counter: 2 out of 7\n"
     ]
    },
    {
     "data": {
      "application/vnd.jupyter.widget-view+json": {
       "model_id": "78dd529dd19f49c0969d5b0a0453b521",
       "version_major": 2,
       "version_minor": 0
      },
      "text/plain": [
       "Epoch 11/30 [Train]:   0%|          | 0/532 [00:00<?, ?it/s]"
      ]
     },
     "metadata": {},
     "output_type": "display_data"
    },
    {
     "data": {
      "application/vnd.jupyter.widget-view+json": {
       "model_id": "5f586e048eca49e2afd672342451288c",
       "version_major": 2,
       "version_minor": 0
      },
      "text/plain": [
       "Epoch 11/30 [Val]  :   0%|          | 0/94 [00:00<?, ?it/s]"
      ]
     },
     "metadata": {},
     "output_type": "display_data"
    },
    {
     "name": "stdout",
     "output_type": "stream",
     "text": [
      "E 11/30 Summary: Train Loss: 95.0383, Val Loss: 14.3156, Train R2 Score: 0.9217, Val R2 Score: 0.9871\n",
      "  Validation loss decreased (14.758895 --> 14.315636). Saving model ...\n"
     ]
    },
    {
     "data": {
      "application/vnd.jupyter.widget-view+json": {
       "model_id": "f19c693bb76241a29c798c17f742fdc7",
       "version_major": 2,
       "version_minor": 0
      },
      "text/plain": [
       "Epoch 12/30 [Train]:   0%|          | 0/532 [00:00<?, ?it/s]"
      ]
     },
     "metadata": {},
     "output_type": "display_data"
    },
    {
     "data": {
      "application/vnd.jupyter.widget-view+json": {
       "model_id": "f86ae21e760148c082d60d4aa220cd55",
       "version_major": 2,
       "version_minor": 0
      },
      "text/plain": [
       "Epoch 12/30 [Val]  :   0%|          | 0/94 [00:00<?, ?it/s]"
      ]
     },
     "metadata": {},
     "output_type": "display_data"
    },
    {
     "name": "stdout",
     "output_type": "stream",
     "text": [
      "  LR Scheduler: New LR = 0.000500\n",
      "E 12/30 Summary: Train Loss: 96.4178, Val Loss: 26.8408, Train R2 Score: 0.9204, Val R2 Score: 0.9763, LR -> 0.000500\n",
      "  EarlyStopping counter: 1 out of 7\n"
     ]
    },
    {
     "data": {
      "application/vnd.jupyter.widget-view+json": {
       "model_id": "ada162fe6a984f29ac90f92b74150b7c",
       "version_major": 2,
       "version_minor": 0
      },
      "text/plain": [
       "Epoch 13/30 [Train]:   0%|          | 0/532 [00:00<?, ?it/s]"
      ]
     },
     "metadata": {},
     "output_type": "display_data"
    },
    {
     "data": {
      "application/vnd.jupyter.widget-view+json": {
       "model_id": "37e04ac8c5154cedbb219fcb8fac3567",
       "version_major": 2,
       "version_minor": 0
      },
      "text/plain": [
       "Epoch 13/30 [Val]  :   0%|          | 0/94 [00:00<?, ?it/s]"
      ]
     },
     "metadata": {},
     "output_type": "display_data"
    },
    {
     "name": "stdout",
     "output_type": "stream",
     "text": [
      "E 13/30 Summary: Train Loss: 94.0611, Val Loss: 9.4373, Train R2 Score: 0.9223, Val R2 Score: 0.9920\n",
      "  Validation loss decreased (14.315636 --> 9.437296). Saving model ...\n"
     ]
    },
    {
     "data": {
      "application/vnd.jupyter.widget-view+json": {
       "model_id": "2006bdb5aa584208bfc4f60268dcc693",
       "version_major": 2,
       "version_minor": 0
      },
      "text/plain": [
       "Epoch 14/30 [Train]:   0%|          | 0/532 [00:00<?, ?it/s]"
      ]
     },
     "metadata": {},
     "output_type": "display_data"
    },
    {
     "data": {
      "application/vnd.jupyter.widget-view+json": {
       "model_id": "57b88d0f62b14e38a0d2dc4784df0287",
       "version_major": 2,
       "version_minor": 0
      },
      "text/plain": [
       "Epoch 14/30 [Val]  :   0%|          | 0/94 [00:00<?, ?it/s]"
      ]
     },
     "metadata": {},
     "output_type": "display_data"
    },
    {
     "name": "stdout",
     "output_type": "stream",
     "text": [
      "E 14/30 Summary: Train Loss: 92.1503, Val Loss: 13.3052, Train R2 Score: 0.9243, Val R2 Score: 0.9882\n",
      "  EarlyStopping counter: 1 out of 7\n"
     ]
    },
    {
     "data": {
      "application/vnd.jupyter.widget-view+json": {
       "model_id": "b2dc6cc5a9134ef0b72b20bd053ef642",
       "version_major": 2,
       "version_minor": 0
      },
      "text/plain": [
       "Epoch 15/30 [Train]:   0%|          | 0/532 [00:00<?, ?it/s]"
      ]
     },
     "metadata": {},
     "output_type": "display_data"
    },
    {
     "data": {
      "application/vnd.jupyter.widget-view+json": {
       "model_id": "74bc326faf9c4f5991e512e39a89f3a9",
       "version_major": 2,
       "version_minor": 0
      },
      "text/plain": [
       "Epoch 15/30 [Val]  :   0%|          | 0/94 [00:00<?, ?it/s]"
      ]
     },
     "metadata": {},
     "output_type": "display_data"
    },
    {
     "name": "stdout",
     "output_type": "stream",
     "text": [
      "E 15/30 Summary: Train Loss: 92.9155, Val Loss: 13.3136, Train R2 Score: 0.9236, Val R2 Score: 0.9881\n",
      "  EarlyStopping counter: 2 out of 7\n"
     ]
    },
    {
     "data": {
      "application/vnd.jupyter.widget-view+json": {
       "model_id": "becfe34f781547089db41e99c12699f1",
       "version_major": 2,
       "version_minor": 0
      },
      "text/plain": [
       "Epoch 16/30 [Train]:   0%|          | 0/532 [00:00<?, ?it/s]"
      ]
     },
     "metadata": {},
     "output_type": "display_data"
    },
    {
     "data": {
      "application/vnd.jupyter.widget-view+json": {
       "model_id": "4c505b1a206c48a8b9b900ae2a5d73cd",
       "version_major": 2,
       "version_minor": 0
      },
      "text/plain": [
       "Epoch 16/30 [Val]  :   0%|          | 0/94 [00:00<?, ?it/s]"
      ]
     },
     "metadata": {},
     "output_type": "display_data"
    },
    {
     "name": "stdout",
     "output_type": "stream",
     "text": [
      "E 16/30 Summary: Train Loss: 92.8616, Val Loss: 17.1685, Train R2 Score: 0.9237, Val R2 Score: 0.9843\n",
      "  EarlyStopping counter: 3 out of 7\n"
     ]
    },
    {
     "data": {
      "application/vnd.jupyter.widget-view+json": {
       "model_id": "2c23e1e40aec448f9b16b8ddfd13d906",
       "version_major": 2,
       "version_minor": 0
      },
      "text/plain": [
       "Epoch 17/30 [Train]:   0%|          | 0/532 [00:00<?, ?it/s]"
      ]
     },
     "metadata": {},
     "output_type": "display_data"
    },
    {
     "data": {
      "application/vnd.jupyter.widget-view+json": {
       "model_id": "7b62f25f3a6b42d0b7e12e4dbe046993",
       "version_major": 2,
       "version_minor": 0
      },
      "text/plain": [
       "Epoch 17/30 [Val]  :   0%|          | 0/94 [00:00<?, ?it/s]"
      ]
     },
     "metadata": {},
     "output_type": "display_data"
    },
    {
     "name": "stdout",
     "output_type": "stream",
     "text": [
      "E 17/30 Summary: Train Loss: 92.5479, Val Loss: 6.8741, Train R2 Score: 0.9237, Val R2 Score: 0.9942\n",
      "  Validation loss decreased (9.437296 --> 6.874060). Saving model ...\n"
     ]
    },
    {
     "data": {
      "application/vnd.jupyter.widget-view+json": {
       "model_id": "c97d24ea34e64dcc87a0c17695a171bd",
       "version_major": 2,
       "version_minor": 0
      },
      "text/plain": [
       "Epoch 18/30 [Train]:   0%|          | 0/532 [00:00<?, ?it/s]"
      ]
     },
     "metadata": {},
     "output_type": "display_data"
    },
    {
     "data": {
      "application/vnd.jupyter.widget-view+json": {
       "model_id": "68b266c1bef141058cba6454afcf8f71",
       "version_major": 2,
       "version_minor": 0
      },
      "text/plain": [
       "Epoch 18/30 [Val]  :   0%|          | 0/94 [00:00<?, ?it/s]"
      ]
     },
     "metadata": {},
     "output_type": "display_data"
    },
    {
     "name": "stdout",
     "output_type": "stream",
     "text": [
      "E 18/30 Summary: Train Loss: 92.4994, Val Loss: 11.0918, Train R2 Score: 0.9239, Val R2 Score: 0.9902\n",
      "  EarlyStopping counter: 1 out of 7\n"
     ]
    },
    {
     "data": {
      "application/vnd.jupyter.widget-view+json": {
       "model_id": "eb4c91b4f3c849cbad0f0b9a01f448e5",
       "version_major": 2,
       "version_minor": 0
      },
      "text/plain": [
       "Epoch 19/30 [Train]:   0%|          | 0/532 [00:00<?, ?it/s]"
      ]
     },
     "metadata": {},
     "output_type": "display_data"
    },
    {
     "data": {
      "application/vnd.jupyter.widget-view+json": {
       "model_id": "03aae34d4b93492f93c7e88e000bed03",
       "version_major": 2,
       "version_minor": 0
      },
      "text/plain": [
       "Epoch 19/30 [Val]  :   0%|          | 0/94 [00:00<?, ?it/s]"
      ]
     },
     "metadata": {},
     "output_type": "display_data"
    },
    {
     "name": "stdout",
     "output_type": "stream",
     "text": [
      "E 19/30 Summary: Train Loss: 94.0965, Val Loss: 9.1995, Train R2 Score: 0.9227, Val R2 Score: 0.9920\n",
      "  EarlyStopping counter: 2 out of 7\n"
     ]
    },
    {
     "data": {
      "application/vnd.jupyter.widget-view+json": {
       "model_id": "f32e6f0279444cbb82805742005ed9d1",
       "version_major": 2,
       "version_minor": 0
      },
      "text/plain": [
       "Epoch 20/30 [Train]:   0%|          | 0/532 [00:00<?, ?it/s]"
      ]
     },
     "metadata": {},
     "output_type": "display_data"
    },
    {
     "data": {
      "application/vnd.jupyter.widget-view+json": {
       "model_id": "fb9ce9989d02464eb0f112a3eedd5b93",
       "version_major": 2,
       "version_minor": 0
      },
      "text/plain": [
       "Epoch 20/30 [Val]  :   0%|          | 0/94 [00:00<?, ?it/s]"
      ]
     },
     "metadata": {},
     "output_type": "display_data"
    },
    {
     "name": "stdout",
     "output_type": "stream",
     "text": [
      "E 20/30 Summary: Train Loss: 92.0193, Val Loss: 13.6020, Train R2 Score: 0.9242, Val R2 Score: 0.9877\n",
      "  EarlyStopping counter: 3 out of 7\n"
     ]
    },
    {
     "data": {
      "application/vnd.jupyter.widget-view+json": {
       "model_id": "44fb3aef9ecb454fbdc3742cc99b0e5e",
       "version_major": 2,
       "version_minor": 0
      },
      "text/plain": [
       "Epoch 21/30 [Train]:   0%|          | 0/532 [00:00<?, ?it/s]"
      ]
     },
     "metadata": {},
     "output_type": "display_data"
    },
    {
     "data": {
      "application/vnd.jupyter.widget-view+json": {
       "model_id": "fdaf4cafc0a049e39e7e8cd17f33241a",
       "version_major": 2,
       "version_minor": 0
      },
      "text/plain": [
       "Epoch 21/30 [Val]  :   0%|          | 0/94 [00:00<?, ?it/s]"
      ]
     },
     "metadata": {},
     "output_type": "display_data"
    },
    {
     "name": "stdout",
     "output_type": "stream",
     "text": [
      "E 21/30 Summary: Train Loss: 91.7990, Val Loss: 11.0554, Train R2 Score: 0.9244, Val R2 Score: 0.9901\n",
      "  EarlyStopping counter: 4 out of 7\n"
     ]
    },
    {
     "data": {
      "application/vnd.jupyter.widget-view+json": {
       "model_id": "d31819bea9f441bbac2790f0bf7e6abe",
       "version_major": 2,
       "version_minor": 0
      },
      "text/plain": [
       "Epoch 22/30 [Train]:   0%|          | 0/532 [00:00<?, ?it/s]"
      ]
     },
     "metadata": {},
     "output_type": "display_data"
    },
    {
     "data": {
      "application/vnd.jupyter.widget-view+json": {
       "model_id": "742090e89b2d4a5083060a919e12d313",
       "version_major": 2,
       "version_minor": 0
      },
      "text/plain": [
       "Epoch 22/30 [Val]  :   0%|          | 0/94 [00:00<?, ?it/s]"
      ]
     },
     "metadata": {},
     "output_type": "display_data"
    },
    {
     "name": "stdout",
     "output_type": "stream",
     "text": [
      "  LR Scheduler: New LR = 0.000250\n",
      "E 22/30 Summary: Train Loss: 90.8052, Val Loss: 14.8668, Train R2 Score: 0.9254, Val R2 Score: 0.9873, LR -> 0.000250\n",
      "  EarlyStopping counter: 5 out of 7\n"
     ]
    },
    {
     "data": {
      "application/vnd.jupyter.widget-view+json": {
       "model_id": "e1b2efe72dfa4a2882b1f0775a0a9c1f",
       "version_major": 2,
       "version_minor": 0
      },
      "text/plain": [
       "Epoch 23/30 [Train]:   0%|          | 0/532 [00:00<?, ?it/s]"
      ]
     },
     "metadata": {},
     "output_type": "display_data"
    },
    {
     "data": {
      "application/vnd.jupyter.widget-view+json": {
       "model_id": "8a52f1c2d6d0449bb628cb86ba3c8938",
       "version_major": 2,
       "version_minor": 0
      },
      "text/plain": [
       "Epoch 23/30 [Val]  :   0%|          | 0/94 [00:00<?, ?it/s]"
      ]
     },
     "metadata": {},
     "output_type": "display_data"
    },
    {
     "name": "stdout",
     "output_type": "stream",
     "text": [
      "E 23/30 Summary: Train Loss: 92.1829, Val Loss: 9.7267, Train R2 Score: 0.9247, Val R2 Score: 0.9917\n",
      "  EarlyStopping counter: 6 out of 7\n"
     ]
    },
    {
     "data": {
      "application/vnd.jupyter.widget-view+json": {
       "model_id": "846020c30da64791a4224886d16d2bab",
       "version_major": 2,
       "version_minor": 0
      },
      "text/plain": [
       "Epoch 24/30 [Train]:   0%|          | 0/532 [00:00<?, ?it/s]"
      ]
     },
     "metadata": {},
     "output_type": "display_data"
    },
    {
     "data": {
      "application/vnd.jupyter.widget-view+json": {
       "model_id": "d9c65da401534395879b9a5980ff0b93",
       "version_major": 2,
       "version_minor": 0
      },
      "text/plain": [
       "Epoch 24/30 [Val]  :   0%|          | 0/94 [00:00<?, ?it/s]"
      ]
     },
     "metadata": {},
     "output_type": "display_data"
    },
    {
     "name": "stdout",
     "output_type": "stream",
     "text": [
      "E 24/30 Summary: Train Loss: 90.6563, Val Loss: 12.1442, Train R2 Score: 0.9252, Val R2 Score: 0.9891\n",
      "  EarlyStopping counter: 7 out of 7\n",
      "Early stopping triggered.\n",
      "------------------------------------------------------------\n",
      "Training finished.\n",
      "------------------------------------------------------------\n",
      "Loading best model from best_regression_model.pkl with val_loss: 6.874060\n"
     ]
    },
    {
     "data": {
      "image/png": "[encoded data removed]",
      "text/plain": [
       "<Figure size 1200x500 with 2 Axes>"
      ]
     },
     "metadata": {},
     "output_type": "display_data"
    },
    {
     "name": "stdout",
     "output_type": "stream",
     "text": [
      "\n",
      "Testing Best Regression Model...\n",
      "------------------------------------------------------------\n",
      "Starting Testing...\n",
      "------------------------------------------------------------\n"
     ]
    },
    {
     "data": {
      "application/vnd.jupyter.widget-view+json": {
       "model_id": "6dd9bb37972048e1ba63303437903d11",
       "version_major": 2,
       "version_minor": 0
      },
      "text/plain": [
       "[Test] :   0%|          | 0/157 [00:00<?, ?it/s]"
      ]
     },
     "metadata": {},
     "output_type": "display_data"
    },
    {
     "name": "stdout",
     "output_type": "stream",
     "text": [
      "------------------------------------------------------------\n",
      "Test Results:\n",
      "  Test Loss: 14.1214\n",
      "  Test R2 Score: 0.9871\n",
      "------------------------------------------------------------\n"
     ]
    },
    {
     "data": {
      "text/plain": [
       "(14.121379061986534, 0.9871320019593226)"
      ]
     },
     "execution_count": 30,
     "metadata": {},
     "output_type": "execute_result"
    }
   ],
   "source": [
    "# ==================================================\n",
    "# 2.2 Модель для Мультирегрессии\n",
    "# ==================================================\n",
    "print(\"\\n\" + \"=\" * 5 + \" Task 1: Multiregression \" + \"=\" * 5)\n",
    "\n",
    "# --- Данные для регрессии ---\n",
    "print(\"Generating regression data...\")\n",
    "N_REG_SAMPLES = 50000\n",
    "N_REG_FEATURES = 10\n",
    "N_REG_TARGETS = 3  # Мультирегрессия\n",
    "\n",
    "# Создаем случайную матрицу весов и смещение\n",
    "W_true = np.random.randn(N_REG_TARGETS, N_REG_FEATURES).astype(np.float32) * 2\n",
    "b_true = np.random.randn(N_REG_TARGETS).astype(np.float32) * 5\n",
    "\n",
    "X_reg = np.random.rand(N_REG_SAMPLES, N_REG_FEATURES).astype(np.float32) * 10\n",
    "# Линейная зависимость + шум\n",
    "y_reg = (\n",
    "    X_reg @ W_true.T\n",
    "    + b_true\n",
    "    + np.random.randn(N_REG_SAMPLES, N_REG_TARGETS).astype(np.float32) * 0.5\n",
    ").astype(np.float32)\n",
    "\n",
    "# Стандартизация входных данных (важно для регрессии)\n",
    "scaler = StandardScaler()\n",
    "X_reg_scaled = scaler.fit_transform(X_reg)\n",
    "\n",
    "# Разделение данных\n",
    "X_reg_train, X_reg_test, y_reg_train, y_reg_test = train_test_split(\n",
    "    X_reg_scaled, y_reg, test_size=0.2, random_state=42\n",
    ")\n",
    "X_reg_train, X_reg_val, y_reg_train, y_reg_val = train_test_split(\n",
    "    X_reg_train, y_reg_train, test_size=0.15, random_state=42\n",
    ")  # 0.8*0.15 ~ 0.12 -> 68/12/20 split\n",
    "print(\n",
    "    f\"Regression data shapes: Train={X_reg_train.shape}, Val={X_reg_val.shape}, Test={X_reg_test.shape}\"\n",
    ")\n",
    "\n",
    "\n",
    "# --- Модели для регрессии (FCNN) ---\n",
    "def create_regression_model(\n",
    "    n_features, n_targets, hidden_size, n_layers, activation=ReLU, dropout_p=0.0\n",
    "):\n",
    "    model = Sequential()\n",
    "    last_size = n_features\n",
    "    for i in range(n_layers):\n",
    "        model.add(Linear(last_size, hidden_size))\n",
    "        # Добавляем Batch Norm + Scaling (имитация affine=True)\n",
    "        model.add(BatchNormalization())  # Alpha по умолчанию\n",
    "        model.add(ChannelwiseScaling(hidden_size))\n",
    "        model.add(activation())\n",
    "        if dropout_p > 0:\n",
    "            model.add(Dropout(dropout_p))\n",
    "        last_size = hidden_size\n",
    "    model.add(Linear(last_size, n_targets))  # Выходной слой без активации для регрессии\n",
    "    return model\n",
    "\n",
    "\n",
    "# Маленькая модель\n",
    "model_reg_small = create_regression_model(\n",
    "    N_REG_FEATURES,\n",
    "    N_REG_TARGETS,\n",
    "    hidden_size=32,\n",
    "    n_layers=1,\n",
    "    activation=ReLU,\n",
    "    dropout_p=0.1,\n",
    ")\n",
    "# Средняя модель\n",
    "model_reg_medium = create_regression_model(\n",
    "    N_REG_FEATURES,\n",
    "    N_REG_TARGETS,\n",
    "    hidden_size=64,\n",
    "    n_layers=2,\n",
    "    activation=LeakyReLU,\n",
    "    dropout_p=0.2,\n",
    ")\n",
    "# Большая модель\n",
    "model_reg_large = create_regression_model(\n",
    "    N_REG_FEATURES,\n",
    "    N_REG_TARGETS,\n",
    "    hidden_size=128,\n",
    "    n_layers=3,\n",
    "    activation=Tanh,\n",
    "    dropout_p=0.3,\n",
    ")\n",
    "\n",
    "# --- Обучение и оценка (Пример для средней модели) ---\n",
    "print(\"\\nTraining Medium Regression Model...\")\n",
    "model_to_train = model_reg_medium\n",
    "criterion_reg = MSECriterion()\n",
    "optimizer_reg = Adam(\n",
    "    model_to_train.getParameters(), learning_rate=1e-3, weight_decay=1e-4\n",
    ")  # Adam часто лучше для FCNN\n",
    "scheduler_reg = StepLR(optimizer_reg, step_size=10, gamma=0.5)\n",
    "# Warmup на 3 эпохи до целевого LR\n",
    "warmup_reg = WarmupLR(\n",
    "    optimizer_reg,\n",
    "    warmup_epochs=3,\n",
    "    initial_lr=1e-5,\n",
    "    target_lr=1e-3,\n",
    "    scheduler_after_warmup=scheduler_reg,\n",
    ")\n",
    "early_stopping_reg = EarlyStopping(\n",
    "    patience=7, verbose=True, path=\"best_regression_model.pkl\"\n",
    ")\n",
    "\n",
    "# Запуск обучения\n",
    "reg_history = train_validate_model(\n",
    "    model_to_train,\n",
    "    criterion_reg,\n",
    "    optimizer_reg,\n",
    "    scheduler_reg,\n",
    "    warmup_reg,\n",
    "    early_stopping_reg,\n",
    "    X_reg_train,\n",
    "    y_reg_train,\n",
    "    X_reg_val,\n",
    "    y_reg_val,\n",
    "    epochs=30,\n",
    "    batch_size=64,\n",
    "    metric_func=calculate_r2,\n",
    "    metric_name=\"R2 Score\",\n",
    "    task_type=\"regression\",\n",
    ")\n",
    "\n",
    "# Отрисовка графиков\n",
    "plot_history(*reg_history, metric_name=\"R2 Score\")\n",
    "\n",
    "# Тестирование лучшей модели\n",
    "print(\"\\nTesting Best Regression Model...\")\n",
    "test_model(\n",
    "    model_to_train,\n",
    "    criterion_reg,\n",
    "    X_reg_test,\n",
    "    y_reg_test,\n",
    "    batch_size=64,\n",
    "    metric_func=calculate_r2,\n",
    "    metric_name=\"R2 Score\",\n",
    "    task_type=\"regression\",\n",
    ")"
   ]
  },
  {
   "cell_type": "code",
   "execution_count": 31,
   "metadata": {},
   "outputs": [],
   "source": [
    "class ClassNLLCriterion(Criterion):  # <-- Наследуемся от вашего Criterion\n",
    "    def __init__(self):\n",
    "        super(\n",
    "            ClassNLLCriterion, self\n",
    "        ).__init__()  # Вызываем __init__ базового Criterion\n",
    "        self.log_probs = None\n",
    "        self.target_indices = None\n",
    "\n",
    "    def updateOutput(self, log_probabilities, target_indices):\n",
    "        batch_size = log_probabilities.shape[0]\n",
    "        self.log_probs = log_probabilities\n",
    "        self.target_indices = target_indices\n",
    "        correct_log_probs = log_probabilities[np.arange(batch_size), target_indices]\n",
    "        self.output = -np.mean(correct_log_probs)\n",
    "        return self.output\n",
    "\n",
    "    def updateGradInput(self, log_probabilities, target_indices):\n",
    "        batch_size, n_classes = log_probabilities.shape\n",
    "        self.gradInput = np.zeros_like(log_probabilities)\n",
    "        self.gradInput[np.arange(batch_size), target_indices] = -1.0 / batch_size\n",
    "        return self.gradInput\n",
    "\n",
    "\n",
    "# --- MSELoss (наследуется от Criterion) ---\n",
    "class MSELoss(Criterion):  # <-- Наследуемся от вашего Criterion\n",
    "    def __init__(self):\n",
    "        super(MSELoss, self).__init__()  # Вызываем __init__ базового Criterion\n",
    "        self.diff = None\n",
    "\n",
    "    def updateOutput(self, y_pred, y_true):\n",
    "        y_pred_f64 = y_pred.astype(np.float64, copy=False)\n",
    "        y_true_f64 = y_true.astype(np.float64, copy=False)\n",
    "        self.diff = y_pred_f64 - y_true_f64\n",
    "        self.output = np.mean(np.power(self.diff, 2))\n",
    "        return self.output\n",
    "\n",
    "    def updateGradInput(self, y_pred, y_true):\n",
    "        if self.diff is None:\n",
    "            raise RuntimeError(\"Need forward pass\")\n",
    "        batch_size = y_pred.shape[0]\n",
    "        num_elements = y_pred.size\n",
    "        self.gradInput = 2.0 * self.diff / num_elements\n",
    "        return self.gradInput.astype(y_pred.dtype)"
   ]
  },
  {
   "cell_type": "code",
   "execution_count": 32,
   "metadata": {},
   "outputs": [
    {
     "name": "stdout",
     "output_type": "stream",
     "text": [
      "\n",
      "===== Task 2: MNIST Classification =====\n",
      "Loading MNIST data...\n",
      "MNIST data shapes: Train=(51000, 1, 28, 28), Val=(9000, 1, 28, 28), Test=(10000, 1, 28, 28)\n",
      "Building CNN model for MNIST...\n",
      "Sequential (\n",
      "  (0):   Conv2d(1,8,K=(5, 5),S=(1, 1),P=2)\n",
      "  (1):   ReLU()\n",
      "  (2):   MaxPool2d(kernel_size=(2, 2), stride=(2, 2), padding=0)\n",
      "  (3):   Conv2d(8,16,K=(3, 3),S=(1, 1),P=1)\n",
      "  (4):   ReLU()\n",
      "  (5):   MaxPool2d(kernel_size=(2, 2), stride=(2, 2), padding=0)\n",
      "  (6):   Flatten(start_dim=1, end_dim=-1)\n",
      "  (7):   Linear(in=784, out=128)\n",
      "  (8):   ReLU()\n",
      "  (9):   Dropout(p=0.25)\n",
      "  (10):   Linear(in=128, out=10)\n",
      "  (11):   LogSoftMax()\n",
      ")\n",
      "\n",
      "Training CNN Model...\n",
      "------------------------------------------------------------\n",
      "Starting Training for 1 epochs...\n",
      "------------------------------------------------------------\n"
     ]
    },
    {
     "data": {
      "application/vnd.jupyter.widget-view+json": {
       "model_id": "4beb30de839247c19bbb4787b885e843",
       "version_major": 2,
       "version_minor": 0
      },
      "text/plain": [
       "Epoch 1/1 [Train]:   0%|          | 0/399 [00:00<?, ?it/s]"
      ]
     },
     "metadata": {},
     "output_type": "display_data"
    },
    {
     "data": {
      "application/vnd.jupyter.widget-view+json": {
       "model_id": "6de2fe1ca20246daa3f3d6f04938442d",
       "version_major": 2,
       "version_minor": 0
      },
      "text/plain": [
       "Epoch 1/1 [Val]  :   0%|          | 0/71 [00:00<?, ?it/s]"
      ]
     },
     "metadata": {},
     "output_type": "display_data"
    },
    {
     "name": "stdout",
     "output_type": "stream",
     "text": [
      "E 1/1 Summary: Train Loss: 0.3297, Val Loss: 0.0980, Train Accuracy: 0.9054, Val Accuracy: 0.9701\n",
      "  Validation loss decreased (inf --> 0.097956). Saving model ...\n",
      "------------------------------------------------------------\n",
      "Training finished.\n",
      "------------------------------------------------------------\n",
      "Loading best model from best_cnn_model.pkl with val_loss: 0.097956\n"
     ]
    },
    {
     "data": {
      "image/png": "[encoded data removed]",
      "text/plain": [
       "<Figure size 1200x500 with 2 Axes>"
      ]
     },
     "metadata": {},
     "output_type": "display_data"
    },
    {
     "name": "stdout",
     "output_type": "stream",
     "text": [
      "\n",
      "Testing Best CNN Model...\n",
      "------------------------------------------------------------\n",
      "Starting Testing...\n",
      "------------------------------------------------------------\n"
     ]
    },
    {
     "data": {
      "application/vnd.jupyter.widget-view+json": {
       "model_id": "9184e11b02c6424fb10feb4c36a7612b",
       "version_major": 2,
       "version_minor": 0
      },
      "text/plain": [
       "[Test] :   0%|          | 0/79 [00:00<?, ?it/s]"
      ]
     },
     "metadata": {},
     "output_type": "display_data"
    },
    {
     "name": "stdout",
     "output_type": "stream",
     "text": [
      "------------------------------------------------------------\n",
      "Test Results:\n",
      "  Test Loss: 0.0859\n",
      "  Test Accuracy: 0.9729\n",
      "------------------------------------------------------------\n"
     ]
    }
   ],
   "source": [
    "# ==================================================\n",
    "# 2.3 Модель для Мультиклассификации на MNIST\n",
    "# ==================================================\n",
    "print(\"\\n\" + \"=\" * 5 + \" Task 2: MNIST Classification \" + \"=\" * 5)\n",
    "\n",
    "# --- Данные MNIST ---\n",
    "if TORCHVISION_AVAILABLE:\n",
    "    print(\"Loading MNIST data...\")\n",
    "    # Загрузка и преобразование в NumPy float32\n",
    "    mnist_train_val = MNIST(\n",
    "        root=\"./data\", train=True, download=True, transform=ToTensor()\n",
    "    )\n",
    "    mnist_test = MNIST(root=\"./data\", train=False, download=True, transform=ToTensor())\n",
    "\n",
    "    # Конвертация в NumPy и нормализация [-1, 1] или [0, 1]\n",
    "    X_mnist = (\n",
    "        mnist_train_val.data.numpy().astype(np.float32) / 255.0\n",
    "    )  # Нормализация в [0, 1]\n",
    "    y_mnist = mnist_train_val.targets.numpy()\n",
    "    X_test_mnist = mnist_test.data.numpy().astype(np.float32) / 255.0\n",
    "    y_test_mnist = mnist_test.targets.numpy()\n",
    "\n",
    "    # Добавляем ось каналов (MNIST черно-белый)\n",
    "    X_mnist = X_mnist[:, None, :, :]  # (60000, 1, 28, 28)\n",
    "    X_test_mnist = X_test_mnist[:, None, :, :]  # (10000, 1, 28, 28)\n",
    "\n",
    "    # Разделение на train/validation\n",
    "    X_train_mnist, X_val_mnist, y_train_mnist, y_val_mnist = train_test_split(\n",
    "        X_mnist,\n",
    "        y_mnist,\n",
    "        test_size=0.15,\n",
    "        random_state=42,\n",
    "        stratify=y_mnist,  # Stratify важно для классификации\n",
    "    )\n",
    "    print(\n",
    "        f\"MNIST data shapes: Train={X_train_mnist.shape}, Val={X_val_mnist.shape}, Test={X_test_mnist.shape}\"\n",
    "    )\n",
    "\n",
    "    # --- Модель CNN для MNIST ---\n",
    "    print(\"Building CNN model for MNIST...\")\n",
    "    model_cnn = Sequential()\n",
    "    # Input: (N, 1, 28, 28)\n",
    "    model_cnn.add(\n",
    "        Conv2d(in_channels=1, out_channels=8, kernel_size=5, padding=2)\n",
    "    )  # (N, 8, 28, 28) padding='same' effect\n",
    "    model_cnn.add(ReLU())\n",
    "    model_cnn.add(MaxPool2d(kernel_size=2, stride=2))  # (N, 8, 14, 14)\n",
    "    # ----\n",
    "    model_cnn.add(\n",
    "        Conv2d(in_channels=8, out_channels=16, kernel_size=3, padding=1)\n",
    "    )  # (N, 16, 14, 14)\n",
    "    model_cnn.add(ReLU())\n",
    "    model_cnn.add(MaxPool2d(kernel_size=2, stride=2))  # (N, 16, 7, 7)\n",
    "    # ----\n",
    "    model_cnn.add(Flatten())  # (N, 16 * 7 * 7 = 784)\n",
    "    model_cnn.add(Linear(n_in=16 * 7 * 7, n_out=128))\n",
    "    model_cnn.add(ReLU())\n",
    "    model_cnn.add(Dropout(0.25))  # Dropout перед финальным слоем\n",
    "    model_cnn.add(Linear(n_in=128, n_out=10))  # 10 классов MNIST\n",
    "    model_cnn.add(LogSoftMax())  # Для ClassNLLCriterion\n",
    "    print(model_cnn)\n",
    "\n",
    "    # --- Обучение CNN ---\n",
    "    print(\"\\nTraining CNN Model...\")\n",
    "    criterion_cnn = ClassNLLCriterion()\n",
    "    optimizer_cnn = Adam(\n",
    "        model_cnn.getParameters(), learning_rate=1e-3\n",
    "    )  # Adam часто хорош для CNN\n",
    "    # Можно добавить scheduler и warmup, но для примера пропустим\n",
    "    # scheduler_cnn = StepLR(optimizer_cnn, step_size=5, gamma=0.5)\n",
    "    # warmup_cnn = WarmupLR(optimizer_cnn, 3, 1e-5, 1e-3, scheduler_cnn)\n",
    "    early_stopping_cnn = EarlyStopping(\n",
    "        patience=5, verbose=True, path=\"best_cnn_model.pkl\"\n",
    "    )\n",
    "\n",
    "    cnn_history = train_validate_model(\n",
    "        model_cnn,\n",
    "        criterion_cnn,\n",
    "        optimizer_cnn,\n",
    "        scheduler=None,\n",
    "        warmup_scheduler=None,\n",
    "        early_stopping=early_stopping_cnn,\n",
    "        X_train=X_train_mnist,\n",
    "        y_train=y_train_mnist,\n",
    "        X_val=X_val_mnist,\n",
    "        y_val=y_val_mnist,\n",
    "        epochs=1,\n",
    "        batch_size=128,  # Увеличим batch_size для MNIST\n",
    "        metric_func=calculate_accuracy,\n",
    "        metric_name=\"Accuracy\",\n",
    "        task_type=\"classification\",\n",
    "    )\n",
    "\n",
    "    # Отрисовка графиков\n",
    "    plot_history(*cnn_history, metric_name=\"Accuracy\")\n",
    "\n",
    "    # Тестирование\n",
    "    print(\"\\nTesting Best CNN Model...\")\n",
    "    test_model(\n",
    "        model_cnn,\n",
    "        criterion_cnn,\n",
    "        X_test_mnist,\n",
    "        y_test_mnist,\n",
    "        batch_size=128,\n",
    "        metric_func=calculate_accuracy,\n",
    "        metric_name=\"Accuracy\",\n",
    "        task_type=\"classification\",\n",
    "    )\n",
    "\n",
    "else:\n",
    "    print(\"Skipping MNIST task as torchvision is not available.\")"
   ]
  },
  {
   "cell_type": "code",
   "execution_count": 33,
   "metadata": {},
   "outputs": [],
   "source": [
    "class Upsample(Module):\n",
    "    def __init__(self, scale_factor=2):\n",
    "        super(Upsample, self).__init__()\n",
    "        self.scale_factor = scale_factor\n",
    "        self.input_shape = None\n",
    "\n",
    "    def updateOutput(self, input):\n",
    "        self.input_shape = input.shape\n",
    "        N, C, H, W = input.shape\n",
    "        H_out = H * self.scale_factor\n",
    "        W_out = W * self.scale_factor\n",
    "        # Простое повторение строк и столбцов\n",
    "        self.output = input.repeat(self.scale_factor, axis=2).repeat(\n",
    "            self.scale_factor, axis=3\n",
    "        )\n",
    "        return self.output\n",
    "\n",
    "    def updateGradInput(self, input, gradOutput):\n",
    "        # Градиент нужно \"сложить\" из соответствующих пикселей gradOutput\n",
    "        N, C, H_out, W_out = gradOutput.shape\n",
    "        H_in = H_out // self.scale_factor\n",
    "        W_in = W_out // self.scale_factor\n",
    "        # Решейпим gradOutput и суммируем по блокам scale_factor x scale_factor\n",
    "        # (N, C, H_in, sf, W_in, sf) -> sum over sf axes (3, 5)\n",
    "        gradOutput_reshaped = gradOutput.reshape(\n",
    "            N, C, H_in, self.scale_factor, W_in, self.scale_factor\n",
    "        )\n",
    "        self.gradInput = gradOutput_reshaped.sum(axis=(3, 5))\n",
    "        return self.gradInput\n",
    "\n",
    "    def __repr__(self):\n",
    "        return f\"Upsample(scale={self.scale_factor})\""
   ]
  },
  {
   "cell_type": "code",
   "execution_count": 34,
   "metadata": {},
   "outputs": [
    {
     "name": "stdout",
     "output_type": "stream",
     "text": [
      "\n",
      "===== Task 3: Autoencoder =====\n",
      "Using MNIST data for Autoencoder...\n",
      "Building Autoencoder model...\n",
      "Sequential (\n",
      "  (0):   Sequential (\n",
      "    (0):   Conv2d(1,16,K=(3, 3),S=(2, 2),P=1)\n",
      "    (1):   ReLU()\n",
      "    (2):   Conv2d(16,32,K=(3, 3),S=(2, 2),P=1)\n",
      "  )\n",
      "  (1):   Sequential (\n",
      "    (0):   Upsample(scale=2)\n",
      "    (1):   Conv2d(32,16,K=(3, 3),S=(1, 1),P=1)\n",
      "    (2):   ReLU()\n",
      "    (3):   Upsample(scale=2)\n",
      "    (4):   Conv2d(16,1,K=(3, 3),S=(1, 1),P=1)\n",
      "    (5):   Sigmoid()\n",
      "  )\n",
      ")\n",
      "\n",
      "Training Autoencoder Model...\n",
      "------------------------------------------------------------\n",
      "Starting Training for 1 epochs...\n",
      "------------------------------------------------------------\n"
     ]
    },
    {
     "data": {
      "application/vnd.jupyter.widget-view+json": {
       "model_id": "c3954532d6604826881cb3d62e0de27b",
       "version_major": 2,
       "version_minor": 0
      },
      "text/plain": [
       "Epoch 1/1 [Train]:   0%|          | 0/399 [00:00<?, ?it/s]"
      ]
     },
     "metadata": {},
     "output_type": "display_data"
    },
    {
     "data": {
      "application/vnd.jupyter.widget-view+json": {
       "model_id": "e93a81c3c8c840dcb6962c67c9e9a396",
       "version_major": 2,
       "version_minor": 0
      },
      "text/plain": [
       "Epoch 1/1 [Val]  :   0%|          | 0/71 [00:00<?, ?it/s]"
      ]
     },
     "metadata": {},
     "output_type": "display_data"
    },
    {
     "name": "stdout",
     "output_type": "stream",
     "text": [
      "E 1/1 Summary: Train Loss: 0.0208, Val Loss: 0.0056\n",
      "  Validation loss decreased (inf --> 0.005639). Saving model ...\n",
      "------------------------------------------------------------\n",
      "Training finished.\n",
      "------------------------------------------------------------\n",
      "Loading best model from best_autoencoder_model.pkl with val_loss: 0.005639\n"
     ]
    },
    {
     "data": {
      "image/png": "[encoded data removed]",
      "text/plain": [
       "<Figure size 1200x500 with 1 Axes>"
      ]
     },
     "metadata": {},
     "output_type": "display_data"
    },
    {
     "name": "stdout",
     "output_type": "stream",
     "text": [
      "\n",
      "Testing Best Autoencoder Model...\n",
      "------------------------------------------------------------\n",
      "Starting Testing...\n",
      "------------------------------------------------------------\n"
     ]
    },
    {
     "data": {
      "application/vnd.jupyter.widget-view+json": {
       "model_id": "743607f66c12497cb509cb5d870587d2",
       "version_major": 2,
       "version_minor": 0
      },
      "text/plain": [
       "[Test] :   0%|          | 0/79 [00:00<?, ?it/s]"
      ]
     },
     "metadata": {},
     "output_type": "display_data"
    },
    {
     "name": "stdout",
     "output_type": "stream",
     "text": [
      "------------------------------------------------------------\n",
      "Test Results:\n",
      "  Test Loss: 0.0054\n",
      "------------------------------------------------------------\n"
     ]
    },
    {
     "data": {
      "image/png": "[encoded data removed]",
      "text/plain": [
       "<Figure size 2000x400 with 20 Axes>"
      ]
     },
     "metadata": {},
     "output_type": "display_data"
    },
    {
     "name": "stdout",
     "output_type": "stream",
     "text": [
      "\n",
      "All tasks finished.\n"
     ]
    }
   ],
   "source": [
    "# ==================================================\n",
    "# 2.4 Автоэнкодер\n",
    "# ==================================================\n",
    "print(\"\\n\" + \"=\" * 5 + \" Task 3: Autoencoder \" + \"=\" * 5)\n",
    "\n",
    "# --- Данные для автоэнкодера (можно использовать MNIST или создать свои) ---\n",
    "# Используем MNIST X_train_mnist, X_val_mnist, X_test_mnist\n",
    "# Цель - восстановить вход, поэтому y = X\n",
    "if TORCHVISION_AVAILABLE:\n",
    "    print(\"Using MNIST data for Autoencoder...\")\n",
    "    X_ae_train, X_ae_val = X_train_mnist, X_val_mnist  # Не y, а сам X\n",
    "    X_ae_test = X_test_mnist\n",
    "\n",
    "    # --- Модель Автоэнкодера (Свёрточный) ---\n",
    "    print(\"Building Autoencoder model...\")\n",
    "    encoder = Sequential()\n",
    "    # Input: (N, 1, 28, 28)\n",
    "    encoder.add(Conv2d(1, 8, 3, stride=2, padding=1))  # -> (N, 8, 14, 14)\n",
    "    encoder.add(ReLU())\n",
    "    encoder.add(Conv2d(8, 16, 3, stride=2, padding=1))  # -> (N, 16, 7, 7)\n",
    "    encoder.add(ReLU())\n",
    "    encoder.add(\n",
    "        Conv2d(16, 32, 3, stride=2, padding=1)\n",
    "    )  # -> (N, 32, 4, 4) - Латентное пр-во до Flatten\n",
    "    # Можно добавить Flatten + Linear для получения вектора\n",
    "    # encoder.add(Flatten())\n",
    "    # encoder.add(Linear(32*4*4, latent_dim))\n",
    "\n",
    "    decoder = Sequential()\n",
    "    # Нужно иметь ConvTranspose или использовать Upsample + Conv\n",
    "    # Decoder (Upsample + Conv)\n",
    "    # Input: (N, 32, 4, 4)\n",
    "    decoder.add(Upsample(scale_factor=2))  # -> (N, 32, 8, 8)\n",
    "    decoder.add(\n",
    "        Conv2d(32, 16, 3, padding=1)\n",
    "    )  # -> (N, 16, 8, 8) # padding=1 для сохранения размера\n",
    "    decoder.add(ReLU())\n",
    "    decoder.add(Upsample(scale_factor=2))  # -> (N, 16, 16, 16)\n",
    "    decoder.add(Conv2d(16, 8, 3, padding=1))  # -> (N, 8, 16, 16)\n",
    "    decoder.add(ReLU())\n",
    "    decoder.add(Upsample(scale_factor=2))  # -> (N, 8, 32, 32)\n",
    "    decoder.add(Conv2d(8, 1, 3, padding=1))  # -> (N, 1, 32, 32)\n",
    "    # Нужно обрезать до 28x28 или изменить архитектуру\n",
    "    # Проще изменить архитектуру энкодера/декодера\n",
    "    # Давайте сделаем симметричнее:\n",
    "    encoder = Sequential()\n",
    "    # Input: (N, 1, 28, 28)\n",
    "    encoder.add(Conv2d(1, 16, 3, stride=2, padding=1))  # (N, 16, 14, 14)\n",
    "    encoder.add(ReLU())\n",
    "    encoder.add(Conv2d(16, 32, 3, stride=2, padding=1))  # (N, 32, 7, 7) - Latent\n",
    "\n",
    "    decoder = Sequential()\n",
    "    # Input: (N, 32, 7, 7)\n",
    "    decoder.add(Upsample(scale_factor=2))  # (N, 32, 14, 14)\n",
    "    decoder.add(Conv2d(32, 16, 3, padding=1))  # (N, 16, 14, 14)\n",
    "    decoder.add(ReLU())\n",
    "    decoder.add(Upsample(scale_factor=2))  # (N, 16, 28, 28)\n",
    "    decoder.add(Conv2d(16, 1, 3, padding=1))  # (N, 1, 28, 28)\n",
    "    decoder.add(Sigmoid())  # Выход в [0, 1], как и входные данные MNIST\n",
    "\n",
    "    # Собираем автоэнкодер\n",
    "    autoencoder = Sequential()\n",
    "    autoencoder.add(encoder)\n",
    "    autoencoder.add(decoder)\n",
    "    print(autoencoder)\n",
    "\n",
    "    # --- Обучение Автоэнкодера ---\n",
    "    print(\"\\nTraining Autoencoder Model...\")\n",
    "    criterion_ae = MSELoss()  # Восстанавливаем изображение - MSE\n",
    "    optimizer_ae = Adam(autoencoder.getParameters(), learning_rate=1e-3)\n",
    "    # Оставим без шедулера/вормапа для простоты\n",
    "    early_stopping_ae = EarlyStopping(\n",
    "        patience=5, verbose=True, path=\"best_autoencoder_model.pkl\"\n",
    "    )\n",
    "\n",
    "    # Обучаем: ВАЖНО - y_train это X_train для автоэнкодера\n",
    "    ae_history = train_validate_model(\n",
    "        autoencoder,\n",
    "        criterion_ae,\n",
    "        optimizer_ae,\n",
    "        scheduler=None,\n",
    "        warmup_scheduler=None,\n",
    "        early_stopping=early_stopping_ae,\n",
    "        X_train=X_ae_train,\n",
    "        y_train=X_ae_train,\n",
    "        X_val=X_ae_val,\n",
    "        y_val=X_ae_val,  # y = X\n",
    "        epochs=1,\n",
    "        batch_size=128,\n",
    "        metric_func=None,  # Метрика не нужна, смотрим на loss\n",
    "        task_type=\"regression\",  # Используем для корректной обработки y=X\n",
    "    )\n",
    "\n",
    "    # Отрисовка графиков потерь\n",
    "    plot_history(ae_history[0], ae_history[1])  # Только лоссы\n",
    "\n",
    "    # Тестирование и визуализация\n",
    "    print(\"\\nTesting Best Autoencoder Model...\")\n",
    "    test_loss_ae, _ = test_model(\n",
    "        autoencoder,\n",
    "        criterion_ae,\n",
    "        X_ae_test,\n",
    "        X_ae_test,\n",
    "        batch_size=128,\n",
    "        task_type=\"regression\",\n",
    "    )\n",
    "\n",
    "    # Визуализация результатов\n",
    "    n_images_to_show = 10\n",
    "    autoencoder.evaluate()\n",
    "    test_output = autoencoder.forward(X_ae_test[:n_images_to_show])\n",
    "\n",
    "    plt.figure(figsize=(20, 4))\n",
    "    for i in range(n_images_to_show):\n",
    "        # original\n",
    "        ax = plt.subplot(2, n_images_to_show, i + 1)\n",
    "        plt.imshow(X_ae_test[i].reshape(28, 28), cmap=\"gray\")\n",
    "        ax.get_xaxis().set_visible(False)\n",
    "        ax.get_yaxis().set_visible(False)\n",
    "        if i == n_images_to_show // 2:\n",
    "            ax.set_title(\"Original images\")\n",
    "\n",
    "        # reconstruction\n",
    "        ax = plt.subplot(2, n_images_to_show, i + 1 + n_images_to_show)\n",
    "        plt.imshow(test_output[i].reshape(28, 28), cmap=\"gray\")\n",
    "        ax.get_xaxis().set_visible(False)\n",
    "        ax.get_yaxis().set_visible(False)\n",
    "        if i == n_images_to_show // 2:\n",
    "            ax.set_title(\"Reconstructed images\")\n",
    "    plt.show()\n",
    "\n",
    "else:\n",
    "    print(\"Skipping Autoencoder task as MNIST data is not available.\")\n",
    "\n",
    "# ==================================================\n",
    "# Конец скрипта\n",
    "# ==================================================\n",
    "print(\"\\nAll tasks finished.\")"
   ]
  },
  {
   "cell_type": "code",
   "execution_count": null,
   "metadata": {},
   "outputs": [],
   "source": []
  }
 ],
 "metadata": {
  "colab": {
   "provenance": []
  },
  "kernelspec": {
   "display_name": "Python 3 (ipykernel)",
   "language": "python",
   "name": "python3"
  },
  "language_info": {
   "codemirror_mode": {
    "name": "ipython",
    "version": 3
   },
   "file_extension": ".py",
   "mimetype": "text/x-python",
   "name": "python",
   "nbconvert_exporter": "python",
   "pygments_lexer": "ipython3",
   "version": "3.12.3"
  }
 },
 "nbformat": 4,
 "nbformat_minor": 4
}
